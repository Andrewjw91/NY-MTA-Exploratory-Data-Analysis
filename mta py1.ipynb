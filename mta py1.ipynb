{
 "cells": [
  {
   "cell_type": "markdown",
   "metadata": {},
   "source": [
    "import urllib.request\n",
    "\n",
    "url = \"http://web.mta.info/developers/data/nyct/turnstile/turnstile_{}.txt\"\n",
    "week_nums = [190504, 190511, 190518, 190525, 190601, 190608, 190615, 190622, 190629, 190706, 190713, 190720, 190727]\n",
    "\n",
    "for week_num in week_nums:\n",
    "    urllib.request.urlretrieve(f\"http://web.mta.info/developers/data/nyct/turnstile/turnstile_{week_num}.txt\",\n",
    "                               f\"data/turnstile_{week_num}.txt\")"
   ]
  },
  {
   "cell_type": "code",
   "execution_count": 12,
   "metadata": {},
   "outputs": [],
   "source": [
    "from sqlalchemy import create_engine\n",
    "import pandas as pd\n",
    "\n",
    "engine = create_engine(\"sqlite:///mta.db\")\n",
    "all_data = pd.read_sql('SELECT * FROM mta_data;', engine)"
   ]
  },
  {
   "cell_type": "code",
   "execution_count": 20,
   "metadata": {
    "scrolled": false
   },
   "outputs": [],
   "source": [
    "df = all_data\n",
    "\n",
    "# Need to change columns to row-index 0\n",
    "#df.rename(columns = df.loc[0], inplace =True)\n",
    "\n",
    "# Remove row 0\n",
    "#df = df.drop([0], inplace=True)\n",
    "\n",
    "# Need to convert EXITS column field11 into numeric type\n",
    "df['EXITS'] = df['EXITS'].apply(pd.to_numeric)\n",
    "\n",
    "#Drop dups\n",
    "#.df.drop_duplicates()\n"
   ]
  },
  {
   "cell_type": "code",
   "execution_count": 33,
   "metadata": {},
   "outputs": [
    {
     "data": {
      "text/html": [
       "<div>\n",
       "<style scoped>\n",
       "    .dataframe tbody tr th:only-of-type {\n",
       "        vertical-align: middle;\n",
       "    }\n",
       "\n",
       "    .dataframe tbody tr th {\n",
       "        vertical-align: top;\n",
       "    }\n",
       "\n",
       "    .dataframe thead th {\n",
       "        text-align: right;\n",
       "    }\n",
       "</style>\n",
       "<table border=\"1\" class=\"dataframe\">\n",
       "  <thead>\n",
       "    <tr style=\"text-align: right;\">\n",
       "      <th></th>\n",
       "      <th>C/A</th>\n",
       "      <th>UNIT</th>\n",
       "      <th>SCP</th>\n",
       "      <th>STATION</th>\n",
       "      <th>LINENAME</th>\n",
       "      <th>DIVISION</th>\n",
       "      <th>DATE</th>\n",
       "      <th>TIME</th>\n",
       "      <th>DESC</th>\n",
       "      <th>ENTRIES</th>\n",
       "      <th>EXITS</th>\n",
       "    </tr>\n",
       "  </thead>\n",
       "  <tbody>\n",
       "    <tr>\n",
       "      <th>1</th>\n",
       "      <td>A002</td>\n",
       "      <td>R051</td>\n",
       "      <td>02-00-00</td>\n",
       "      <td>59 ST</td>\n",
       "      <td>NQR456W</td>\n",
       "      <td>BMT</td>\n",
       "      <td>04/27/2019</td>\n",
       "      <td>00:00:00</td>\n",
       "      <td>REGULAR</td>\n",
       "      <td>0007035249</td>\n",
       "      <td>2384833</td>\n",
       "    </tr>\n",
       "    <tr>\n",
       "      <th>2</th>\n",
       "      <td>A002</td>\n",
       "      <td>R051</td>\n",
       "      <td>02-00-00</td>\n",
       "      <td>59 ST</td>\n",
       "      <td>NQR456W</td>\n",
       "      <td>BMT</td>\n",
       "      <td>04/27/2019</td>\n",
       "      <td>04:00:00</td>\n",
       "      <td>REGULAR</td>\n",
       "      <td>0007035269</td>\n",
       "      <td>2384840</td>\n",
       "    </tr>\n",
       "    <tr>\n",
       "      <th>3</th>\n",
       "      <td>A002</td>\n",
       "      <td>R051</td>\n",
       "      <td>02-00-00</td>\n",
       "      <td>59 ST</td>\n",
       "      <td>NQR456W</td>\n",
       "      <td>BMT</td>\n",
       "      <td>04/27/2019</td>\n",
       "      <td>08:00:00</td>\n",
       "      <td>REGULAR</td>\n",
       "      <td>0007035292</td>\n",
       "      <td>2384875</td>\n",
       "    </tr>\n",
       "    <tr>\n",
       "      <th>4</th>\n",
       "      <td>A002</td>\n",
       "      <td>R051</td>\n",
       "      <td>02-00-00</td>\n",
       "      <td>59 ST</td>\n",
       "      <td>NQR456W</td>\n",
       "      <td>BMT</td>\n",
       "      <td>04/27/2019</td>\n",
       "      <td>12:00:00</td>\n",
       "      <td>REGULAR</td>\n",
       "      <td>0007035392</td>\n",
       "      <td>2384951</td>\n",
       "    </tr>\n",
       "  </tbody>\n",
       "</table>\n",
       "</div>"
      ],
      "text/plain": [
       "    C/A  UNIT       SCP STATION LINENAME DIVISION        DATE      TIME  \\\n",
       "1  A002  R051  02-00-00   59 ST  NQR456W      BMT  04/27/2019  00:00:00   \n",
       "2  A002  R051  02-00-00   59 ST  NQR456W      BMT  04/27/2019  04:00:00   \n",
       "3  A002  R051  02-00-00   59 ST  NQR456W      BMT  04/27/2019  08:00:00   \n",
       "4  A002  R051  02-00-00   59 ST  NQR456W      BMT  04/27/2019  12:00:00   \n",
       "\n",
       "      DESC     ENTRIES    EXITS  \n",
       "1  REGULAR  0007035249  2384833  \n",
       "2  REGULAR  0007035269  2384840  \n",
       "3  REGULAR  0007035292  2384875  \n",
       "4  REGULAR  0007035392  2384951  "
      ]
     },
     "execution_count": 33,
     "metadata": {},
     "output_type": "execute_result"
    }
   ],
   "source": [
    "df.head(4)"
   ]
  },
  {
   "cell_type": "code",
   "execution_count": 26,
   "metadata": {
    "scrolled": false
   },
   "outputs": [
    {
     "data": {
      "text/html": [
       "<div>\n",
       "<style scoped>\n",
       "    .dataframe tbody tr th:only-of-type {\n",
       "        vertical-align: middle;\n",
       "    }\n",
       "\n",
       "    .dataframe tbody tr th {\n",
       "        vertical-align: top;\n",
       "    }\n",
       "\n",
       "    .dataframe thead th {\n",
       "        text-align: right;\n",
       "    }\n",
       "</style>\n",
       "<table border=\"1\" class=\"dataframe\">\n",
       "  <thead>\n",
       "    <tr style=\"text-align: right;\">\n",
       "      <th></th>\n",
       "      <th></th>\n",
       "      <th>EXITS</th>\n",
       "    </tr>\n",
       "    <tr>\n",
       "      <th>C/A</th>\n",
       "      <th>SCP</th>\n",
       "      <th></th>\n",
       "    </tr>\n",
       "  </thead>\n",
       "  <tbody>\n",
       "    <tr>\n",
       "      <th rowspan=\"5\" valign=\"top\">A002</th>\n",
       "      <th>02-00-00</th>\n",
       "      <td>2418903</td>\n",
       "    </tr>\n",
       "    <tr>\n",
       "      <th>02-00-01</th>\n",
       "      <td>1425872</td>\n",
       "    </tr>\n",
       "    <tr>\n",
       "      <th>02-03-00</th>\n",
       "      <td>4751266</td>\n",
       "    </tr>\n",
       "    <tr>\n",
       "      <th>02-03-01</th>\n",
       "      <td>1824315</td>\n",
       "    </tr>\n",
       "    <tr>\n",
       "      <th>02-03-02</th>\n",
       "      <td>8432345</td>\n",
       "    </tr>\n",
       "  </tbody>\n",
       "</table>\n",
       "</div>"
      ],
      "text/plain": [
       "                 EXITS\n",
       "C/A  SCP              \n",
       "A002 02-00-00  2418903\n",
       "     02-00-01  1425872\n",
       "     02-03-00  4751266\n",
       "     02-03-01  1824315\n",
       "     02-03-02  8432345"
      ]
     },
     "execution_count": 26,
     "metadata": {},
     "output_type": "execute_result"
    }
   ],
   "source": [
    "# Need to find the max(EXITS) for each (SCP)\n",
    "max_exit = df.groupby(['C/A','SCP'])[['EXITS']].max().head(5)\n",
    "max_exit"
   ]
  },
  {
   "cell_type": "code",
   "execution_count": 27,
   "metadata": {},
   "outputs": [
    {
     "data": {
      "text/html": [
       "<div>\n",
       "<style scoped>\n",
       "    .dataframe tbody tr th:only-of-type {\n",
       "        vertical-align: middle;\n",
       "    }\n",
       "\n",
       "    .dataframe tbody tr th {\n",
       "        vertical-align: top;\n",
       "    }\n",
       "\n",
       "    .dataframe thead th {\n",
       "        text-align: right;\n",
       "    }\n",
       "</style>\n",
       "<table border=\"1\" class=\"dataframe\">\n",
       "  <thead>\n",
       "    <tr style=\"text-align: right;\">\n",
       "      <th></th>\n",
       "      <th></th>\n",
       "      <th>EXITS</th>\n",
       "    </tr>\n",
       "    <tr>\n",
       "      <th>C/A</th>\n",
       "      <th>SCP</th>\n",
       "      <th></th>\n",
       "    </tr>\n",
       "  </thead>\n",
       "  <tbody>\n",
       "    <tr>\n",
       "      <th rowspan=\"5\" valign=\"top\">A002</th>\n",
       "      <th>02-00-00</th>\n",
       "      <td>2384833</td>\n",
       "    </tr>\n",
       "    <tr>\n",
       "      <th>02-00-01</th>\n",
       "      <td>1405759</td>\n",
       "    </tr>\n",
       "    <tr>\n",
       "      <th>02-03-00</th>\n",
       "      <td>4603019</td>\n",
       "    </tr>\n",
       "    <tr>\n",
       "      <th>02-03-01</th>\n",
       "      <td>1670332</td>\n",
       "    </tr>\n",
       "    <tr>\n",
       "      <th>02-03-02</th>\n",
       "      <td>8316344</td>\n",
       "    </tr>\n",
       "  </tbody>\n",
       "</table>\n",
       "</div>"
      ],
      "text/plain": [
       "                 EXITS\n",
       "C/A  SCP              \n",
       "A002 02-00-00  2384833\n",
       "     02-00-01  1405759\n",
       "     02-03-00  4603019\n",
       "     02-03-01  1670332\n",
       "     02-03-02  8316344"
      ]
     },
     "execution_count": 27,
     "metadata": {},
     "output_type": "execute_result"
    }
   ],
   "source": [
    "# Need to find the min(EXITS) for each (SCP)\n",
    "min_exit = df.groupby(['C/A','SCP'])[['EXITS']].min().head(5)\n",
    "min_exit"
   ]
  },
  {
   "cell_type": "code",
   "execution_count": 42,
   "metadata": {
    "scrolled": false
   },
   "outputs": [
    {
     "data": {
      "text/html": [
       "<div>\n",
       "<style scoped>\n",
       "    .dataframe tbody tr th:only-of-type {\n",
       "        vertical-align: middle;\n",
       "    }\n",
       "\n",
       "    .dataframe tbody tr th {\n",
       "        vertical-align: top;\n",
       "    }\n",
       "\n",
       "    .dataframe thead th {\n",
       "        text-align: right;\n",
       "    }\n",
       "</style>\n",
       "<table border=\"1\" class=\"dataframe\">\n",
       "  <thead>\n",
       "    <tr style=\"text-align: right;\">\n",
       "      <th></th>\n",
       "      <th></th>\n",
       "      <th>EXITS_x</th>\n",
       "      <th>EXITS_y</th>\n",
       "    </tr>\n",
       "    <tr>\n",
       "      <th>C/A</th>\n",
       "      <th>SCP</th>\n",
       "      <th></th>\n",
       "      <th></th>\n",
       "    </tr>\n",
       "  </thead>\n",
       "  <tbody>\n",
       "    <tr>\n",
       "      <th rowspan=\"5\" valign=\"top\">A002</th>\n",
       "      <th>02-00-00</th>\n",
       "      <td>2418903</td>\n",
       "      <td>2384833</td>\n",
       "    </tr>\n",
       "    <tr>\n",
       "      <th>02-00-01</th>\n",
       "      <td>1425872</td>\n",
       "      <td>1405759</td>\n",
       "    </tr>\n",
       "    <tr>\n",
       "      <th>02-03-00</th>\n",
       "      <td>4751266</td>\n",
       "      <td>4603019</td>\n",
       "    </tr>\n",
       "    <tr>\n",
       "      <th>02-03-01</th>\n",
       "      <td>1824315</td>\n",
       "      <td>1670332</td>\n",
       "    </tr>\n",
       "    <tr>\n",
       "      <th>02-03-02</th>\n",
       "      <td>8432345</td>\n",
       "      <td>8316344</td>\n",
       "    </tr>\n",
       "  </tbody>\n",
       "</table>\n",
       "</div>"
      ],
      "text/plain": [
       "               EXITS_x  EXITS_y\n",
       "C/A  SCP                       \n",
       "A002 02-00-00  2418903  2384833\n",
       "     02-00-01  1425872  1405759\n",
       "     02-03-00  4751266  4603019\n",
       "     02-03-01  1824315  1670332\n",
       "     02-03-02  8432345  8316344"
      ]
     },
     "execution_count": 42,
     "metadata": {},
     "output_type": "execute_result"
    }
   ],
   "source": [
    "#Merging new exits data into one df, on matching SCP column\n",
    "total_scp_exit = pd.merge(max_exit, min_exit, on=['C/A','SCP'])\n",
    "total_scp_exit"
   ]
  },
  {
   "cell_type": "code",
   "execution_count": 32,
   "metadata": {
    "scrolled": true
   },
   "outputs": [
    {
     "data": {
      "text/html": [
       "<div>\n",
       "<style scoped>\n",
       "    .dataframe tbody tr th:only-of-type {\n",
       "        vertical-align: middle;\n",
       "    }\n",
       "\n",
       "    .dataframe tbody tr th {\n",
       "        vertical-align: top;\n",
       "    }\n",
       "\n",
       "    .dataframe thead th {\n",
       "        text-align: right;\n",
       "    }\n",
       "</style>\n",
       "<table border=\"1\" class=\"dataframe\">\n",
       "  <thead>\n",
       "    <tr style=\"text-align: right;\">\n",
       "      <th></th>\n",
       "      <th>EXITS_x</th>\n",
       "      <th>EXITS_y</th>\n",
       "      <th>total</th>\n",
       "    </tr>\n",
       "    <tr>\n",
       "      <th>SCP</th>\n",
       "      <th></th>\n",
       "      <th></th>\n",
       "      <th></th>\n",
       "    </tr>\n",
       "  </thead>\n",
       "  <tbody>\n",
       "    <tr>\n",
       "      <th>02-00-00</th>\n",
       "      <td>2418903</td>\n",
       "      <td>2384833</td>\n",
       "      <td>34070</td>\n",
       "    </tr>\n",
       "    <tr>\n",
       "      <th>02-00-01</th>\n",
       "      <td>1425872</td>\n",
       "      <td>1405759</td>\n",
       "      <td>20113</td>\n",
       "    </tr>\n",
       "    <tr>\n",
       "      <th>02-03-00</th>\n",
       "      <td>4751266</td>\n",
       "      <td>4603019</td>\n",
       "      <td>148247</td>\n",
       "    </tr>\n",
       "    <tr>\n",
       "      <th>02-03-01</th>\n",
       "      <td>1824315</td>\n",
       "      <td>1670332</td>\n",
       "      <td>153983</td>\n",
       "    </tr>\n",
       "    <tr>\n",
       "      <th>02-03-02</th>\n",
       "      <td>8432345</td>\n",
       "      <td>8316344</td>\n",
       "      <td>116001</td>\n",
       "    </tr>\n",
       "  </tbody>\n",
       "</table>\n",
       "</div>"
      ],
      "text/plain": [
       "          EXITS_x  EXITS_y   total\n",
       "SCP                               \n",
       "02-00-00  2418903  2384833   34070\n",
       "02-00-01  1425872  1405759   20113\n",
       "02-03-00  4751266  4603019  148247\n",
       "02-03-01  1824315  1670332  153983\n",
       "02-03-02  8432345  8316344  116001"
      ]
     },
     "execution_count": 32,
     "metadata": {},
     "output_type": "execute_result"
    }
   ],
   "source": [
    "# total_scp_exits = max-min for a turnstile SCP\n",
    "total_scp_exit['total'] = total_scp_exit['EXITS_x']-total_scp_exit['EXITS_y']\n",
    "total_scp_exit"
   ]
  },
  {
   "cell_type": "code",
   "execution_count": null,
   "metadata": {},
   "outputs": [],
   "source": [
    "#Count unique number of dates"
   ]
  },
  {
   "cell_type": "code",
   "execution_count": null,
   "metadata": {},
   "outputs": [],
   "source": [
    "#Make new column daily_avg_exits\n",
    "total_scp_exit['daily_avg_exits'] = total_scp_exit['total']"
   ]
  },
  {
   "cell_type": "code",
   "execution_count": null,
   "metadata": {},
   "outputs": [],
   "source": [
    "#Need to JOIN and GROUP BY C/A on SCP"
   ]
  },
  {
   "cell_type": "code",
   "execution_count": null,
   "metadata": {},
   "outputs": [],
   "source": [
    "# Group by (C/A) combine SUM(total_scp_exits) for each (C/A) = total_station_exits"
   ]
  }
 ],
 "metadata": {
  "kernelspec": {
   "display_name": "Python 3",
   "language": "python",
   "name": "python3"
  },
  "language_info": {
   "codemirror_mode": {
    "name": "ipython",
    "version": 3
   },
   "file_extension": ".py",
   "mimetype": "text/x-python",
   "name": "python",
   "nbconvert_exporter": "python",
   "pygments_lexer": "ipython3",
   "version": "3.8.5"
  }
 },
 "nbformat": 4,
 "nbformat_minor": 4
}
