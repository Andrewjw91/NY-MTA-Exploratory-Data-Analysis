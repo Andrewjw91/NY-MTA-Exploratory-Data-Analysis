{
 "cells": [
  {
   "cell_type": "markdown",
   "metadata": {},
   "source": [
    "SELECT * FROM mta_data m\n",
    "LEFT JOIN neighborhoods n ON m.field4 = n.field1\n",
    "#----\n",
    "UPDATE mta_data\n",
    "SET field4 ='PARK PLACE-IRT'\n",
    "WHERE field4 ='PARK PLACE' AND field6 ='IRT'\n",
    "#----\n",
    "UPDATE mta_data\n",
    "SET field4 ='PARK PLACE-BMT'\n",
    "WHERE field4 ='PARK PLACE' AND field6 ='BMT' \n",
    "#----\n",
    "UPDATE mta_data\n",
    "SET field4 ='BROADWAY-BMT'\n",
    "WHERE field4 ='BROADWAY' AND field6='BMT'\n",
    "#----  \n",
    "UPDATE mta_data    \n",
    "SET field4 ='BROADWAY-IND'\n",
    "WHERE field4 ='BROADWAY' AND field6='IND'\n",
    "#----\n",
    "UPDATE mta_data\n",
    "SET field4 ='59 ST-IRT'\n",
    "WHERE field4 ='59 ST' AND field6='IRT'\n",
    "#----\n",
    "UPDATE mta_data\n",
    "SET field4 ='59 ST-BMT'\n",
    "WHERE field4 ='59 ST' AND field6='BMT'\n",
    "#----#\n",
    "UPDATE mta_data\n",
    "SET field4 ='7 AV-BDE'\n",
    "WHERE field4 ='7 AV' AND field5='BDE'\n",
    "#----\n",
    "UPDATE mta_data\n",
    "SET field4 ='8 AV-N'\n",
    "WHERE field4 ='8 AV' AND field6='N'\n",
    "#----\n",
    "UPDATE mta_data\n",
    "SET field4 ='PROSPECT AV-2-5'\n",
    "WHERE field4 ='PROSPECT AV' AND field5='25'\n",
    "#----\n",
    "UPDATE mta_data\n",
    "SET field4 ='50 ST-D'\n",
    "WHERE Field4 ='50 ST' AND field5='D'\n",
    "#----\n",
    "UPDATE mta_data\n",
    "SET field4 ='77 ST-R'\n",
    "WHERE Field4 ='77 ST' AND field5='R'\n",
    "#----\n",
    "UPDATE mta_data\n",
    "SET field4 ='79 ST-D'\n",
    "WHERE Field4 ='79 ST' AND field5='D'\n",
    "#----\n",
    "UPDATE mta_data\n",
    "SET field4 ='86 ST-R'\n",
    "WHERE Field4 ='86 ST' AND field5='R'\n",
    "#----\n",
    "UPDATE mta_data\n",
    "SET field4 ='FULTON ST-G'\n",
    "WHERE Field4 ='FULTON ST' AND field5='G'\n",
    "#----\n",
    "UPDATE mta_data\n",
    "SET field4 ='GRAND-ST-L'\n",
    "WHERE Field4 ='GRAND ST' AND field5='L'\n"
   ]
  },
  {
   "cell_type": "markdown",
   "metadata": {},
   "source": [
    "#Find unmatched (NULL) values when joining MTA data table with my Station:Borough csv table\n",
    "\n",
    "SELECT DISTINCT field4 FROM mta_data m\n",
    "LEFT JOIN neighborhoods n ON m.field4 = n.field1\n",
    "WHERE n.field2 IS NULL"
   ]
  }
 ],
 "metadata": {
  "kernelspec": {
   "display_name": "Python 3",
   "language": "python",
   "name": "python3"
  },
  "language_info": {
   "codemirror_mode": {
    "name": "ipython",
    "version": 3
   },
   "file_extension": ".py",
   "mimetype": "text/x-python",
   "name": "python",
   "nbconvert_exporter": "python",
   "pygments_lexer": "ipython3",
   "version": "3.8.5"
  }
 },
 "nbformat": 4,
 "nbformat_minor": 4
}
