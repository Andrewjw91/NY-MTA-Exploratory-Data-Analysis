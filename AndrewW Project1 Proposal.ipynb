{
 "cells": [
  {
   "cell_type": "markdown",
   "metadata": {},
   "source": [
    "## MTA Data Project Proposal\n",
    "\n",
    "#### Question/need:\n",
    "The aggregated MTA rider data gives us the collected entry and exit counts from each subway station in New York City. We can filter this data further by the individual turnstile units within each train station. With data cleaning and contatenation, we can develop a new model of data that can tell us which train stations have the most exit traffic on average. Additionally, we may be able to examine the exit data further to determine the rush hour times.\n",
    "\n",
    "My project propsal is to frame this data toward electric rental scooter companies (e.g Lime, Scoot, Lyft etc.) to help them determine the optimal train stations to deploy their rides. Positioning a larger portion of scooter fleets around higher pedestrian foot-traffic increases the likelyhood of a rental ride. Targeting these highly populated areas also promotes scooter re-circulation to other riders.\n",
    "\n",
    "#### Data Description:\n",
    "I plan to take the MTA datasets and and combine them into a singular file, with which I can manipulate with pandas. For a particular date, I can take the exit count at the end of the day (max value) and subtract the exit count from the start of the day (min value) to obtain the total number of exits for a particular turnstile unit. The total exit count for a station can be obtained by taking the SUM of exit counts of all turnstiles within a station. Then I can take the mean of total exits per day over >=3 month period. I'll calculate this for each station within a sample vicinity (neighborhood or borough).\n",
    "\n",
    "I predict that the highest number of turnstile exits will come from train stations in the downtown or Manhattan area, particularly near tourist areas and the financial district. This area will be the target for the scooter companies to deploy more scooters.\n",
    "\n",
    "#### Tools:\n",
    "I'll be analyzing the data and obtaining statistical values using pandas. I will likely combine and clean data using SQL to make my pandas operations easier. Once the statistical and data values have been obtained, I can feed these to matplotlib and seaborn for visualization to present to the businesses.\n",
    "\n",
    "#### MVP Goal:\n",
    "The minimum viable product would ideally visualize multiple graphs (I'm thinking 3) of the stations from different 3 different areas in NYC. These graphs would show the average number of exits over the span of several months, illustrating the ideal hotspots for potential scooter riders. The design of this model can be viable for ongoing use, as newer date ranges can be analyzed to maintain up-to-date hotspots. "
   ]
  }
 ],
 "metadata": {
  "kernelspec": {
   "display_name": "Python 3",
   "language": "python",
   "name": "python3"
  },
  "language_info": {
   "codemirror_mode": {
    "name": "ipython",
    "version": 3
   },
   "file_extension": ".py",
   "mimetype": "text/x-python",
   "name": "python",
   "nbconvert_exporter": "python",
   "pygments_lexer": "ipython3",
   "version": "3.8.5"
  }
 },
 "nbformat": 4,
 "nbformat_minor": 4
}
