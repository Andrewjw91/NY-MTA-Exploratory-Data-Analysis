{
 "cells": [
  {
   "cell_type": "markdown",
   "metadata": {},
   "source": [
    "import urllib.request\n",
    "\n",
    "url = \"http://web.mta.info/developers/data/nyct/turnstile/turnstile_{}.txt\"\n",
    "week_nums = [190504, 190511, 190518, 190525, 190601, 190608, 190615, 190622, 190629, 190706, 190713, 190720, 190727]\n",
    "\n",
    "for week_num in week_nums:\n",
    "    urllib.request.urlretrieve(f\"http://web.mta.info/developers/data/nyct/turnstile/turnstile_{week_num}.txt\",\n",
    "                               f\"data/turnstile_{week_num}.txt\")"
   ]
  },
  {
   "cell_type": "code",
   "execution_count": 1,
   "metadata": {},
   "outputs": [],
   "source": [
    "from sqlalchemy import create_engine\n",
    "import pandas as pd\n",
    "import numpy as np\n",
    "import matplotlib.pyplot as plt\n",
    "import seaborn as sns\n",
    "\n",
    "engine = create_engine(\"sqlite:///mta2.db\")\n",
    "all_data = pd.read_sql('SELECT * FROM mta_data2;', engine)"
   ]
  },
  {
   "cell_type": "code",
   "execution_count": null,
   "metadata": {},
   "outputs": [],
   "source": [
    "%config InlineBackend.figure_format = 'png'\n",
    "%matplotlib inline "
   ]
  },
  {
   "cell_type": "code",
   "execution_count": 2,
   "metadata": {},
   "outputs": [],
   "source": [
    "df = all_data"
   ]
  },
  {
   "cell_type": "code",
   "execution_count": 4,
   "metadata": {
    "scrolled": false
   },
   "outputs": [],
   "source": [
    "# Need to change columns to row-index 0\n",
    "df.rename(columns = df.loc[2], inplace =True)\n",
    "\n",
    "# Remove row 0,1,2\n",
    "df = df.drop(df.index[[0,1,2]], inplace=True)"
   ]
  },
  {
   "cell_type": "code",
   "execution_count": 6,
   "metadata": {},
   "outputs": [],
   "source": [
    "df = all_data\n",
    "#Drop Dups\n",
    "df.drop_duplicates(inplace=True)"
   ]
  },
  {
   "cell_type": "code",
   "execution_count": 7,
   "metadata": {},
   "outputs": [],
   "source": [
    "# Need to convert EXITS column field11 into numeric type\n",
    "df['EXITS'] = df['EXITS'].astype(np.float64)"
   ]
  },
  {
   "cell_type": "code",
   "execution_count": null,
   "metadata": {},
   "outputs": [],
   "source": [
    "df.info()"
   ]
  },
  {
   "cell_type": "code",
   "execution_count": 8,
   "metadata": {
    "scrolled": false
   },
   "outputs": [
    {
     "data": {
      "text/html": [
       "<div>\n",
       "<style scoped>\n",
       "    .dataframe tbody tr th:only-of-type {\n",
       "        vertical-align: middle;\n",
       "    }\n",
       "\n",
       "    .dataframe tbody tr th {\n",
       "        vertical-align: top;\n",
       "    }\n",
       "\n",
       "    .dataframe thead th {\n",
       "        text-align: right;\n",
       "    }\n",
       "</style>\n",
       "<table border=\"1\" class=\"dataframe\">\n",
       "  <thead>\n",
       "    <tr style=\"text-align: right;\">\n",
       "      <th></th>\n",
       "      <th>C/A</th>\n",
       "      <th>UNIT</th>\n",
       "      <th>SCP</th>\n",
       "      <th>STATION</th>\n",
       "      <th>LINENAME</th>\n",
       "      <th>DIVISION</th>\n",
       "      <th>DATE</th>\n",
       "      <th>TIME</th>\n",
       "      <th>DESC</th>\n",
       "      <th>ENTRIES</th>\n",
       "      <th>EXITS</th>\n",
       "      <th>AREA</th>\n",
       "    </tr>\n",
       "  </thead>\n",
       "  <tbody>\n",
       "    <tr>\n",
       "      <th>3</th>\n",
       "      <td>A002</td>\n",
       "      <td>R051</td>\n",
       "      <td>02-00-00</td>\n",
       "      <td>59 ST-BMT</td>\n",
       "      <td>NQR456W</td>\n",
       "      <td>BMT</td>\n",
       "      <td>04/27/2019</td>\n",
       "      <td>00:00:00</td>\n",
       "      <td>REGULAR</td>\n",
       "      <td>0007035249</td>\n",
       "      <td>2384833.0</td>\n",
       "      <td>BROOKLYN</td>\n",
       "    </tr>\n",
       "    <tr>\n",
       "      <th>4</th>\n",
       "      <td>A002</td>\n",
       "      <td>R051</td>\n",
       "      <td>02-00-00</td>\n",
       "      <td>59 ST-BMT</td>\n",
       "      <td>NQR456W</td>\n",
       "      <td>BMT</td>\n",
       "      <td>04/27/2019</td>\n",
       "      <td>04:00:00</td>\n",
       "      <td>REGULAR</td>\n",
       "      <td>0007035269</td>\n",
       "      <td>2384840.0</td>\n",
       "      <td>BROOKLYN</td>\n",
       "    </tr>\n",
       "    <tr>\n",
       "      <th>5</th>\n",
       "      <td>A002</td>\n",
       "      <td>R051</td>\n",
       "      <td>02-00-00</td>\n",
       "      <td>59 ST-BMT</td>\n",
       "      <td>NQR456W</td>\n",
       "      <td>BMT</td>\n",
       "      <td>04/27/2019</td>\n",
       "      <td>08:00:00</td>\n",
       "      <td>REGULAR</td>\n",
       "      <td>0007035292</td>\n",
       "      <td>2384875.0</td>\n",
       "      <td>BROOKLYN</td>\n",
       "    </tr>\n",
       "    <tr>\n",
       "      <th>6</th>\n",
       "      <td>A002</td>\n",
       "      <td>R051</td>\n",
       "      <td>02-00-00</td>\n",
       "      <td>59 ST-BMT</td>\n",
       "      <td>NQR456W</td>\n",
       "      <td>BMT</td>\n",
       "      <td>04/27/2019</td>\n",
       "      <td>12:00:00</td>\n",
       "      <td>REGULAR</td>\n",
       "      <td>0007035392</td>\n",
       "      <td>2384951.0</td>\n",
       "      <td>BROOKLYN</td>\n",
       "    </tr>\n",
       "    <tr>\n",
       "      <th>7</th>\n",
       "      <td>A002</td>\n",
       "      <td>R051</td>\n",
       "      <td>02-00-00</td>\n",
       "      <td>59 ST-BMT</td>\n",
       "      <td>NQR456W</td>\n",
       "      <td>BMT</td>\n",
       "      <td>04/27/2019</td>\n",
       "      <td>16:00:00</td>\n",
       "      <td>REGULAR</td>\n",
       "      <td>0007035651</td>\n",
       "      <td>2385020.0</td>\n",
       "      <td>BROOKLYN</td>\n",
       "    </tr>\n",
       "  </tbody>\n",
       "</table>\n",
       "</div>"
      ],
      "text/plain": [
       "    C/A  UNIT       SCP    STATION LINENAME DIVISION        DATE      TIME  \\\n",
       "3  A002  R051  02-00-00  59 ST-BMT  NQR456W      BMT  04/27/2019  00:00:00   \n",
       "4  A002  R051  02-00-00  59 ST-BMT  NQR456W      BMT  04/27/2019  04:00:00   \n",
       "5  A002  R051  02-00-00  59 ST-BMT  NQR456W      BMT  04/27/2019  08:00:00   \n",
       "6  A002  R051  02-00-00  59 ST-BMT  NQR456W      BMT  04/27/2019  12:00:00   \n",
       "7  A002  R051  02-00-00  59 ST-BMT  NQR456W      BMT  04/27/2019  16:00:00   \n",
       "\n",
       "      DESC     ENTRIES      EXITS      AREA  \n",
       "3  REGULAR  0007035249  2384833.0  BROOKLYN  \n",
       "4  REGULAR  0007035269  2384840.0  BROOKLYN  \n",
       "5  REGULAR  0007035292  2384875.0  BROOKLYN  \n",
       "6  REGULAR  0007035392  2384951.0  BROOKLYN  \n",
       "7  REGULAR  0007035651  2385020.0  BROOKLYN  "
      ]
     },
     "execution_count": 8,
     "metadata": {},
     "output_type": "execute_result"
    }
   ],
   "source": [
    "df.head()"
   ]
  },
  {
   "cell_type": "code",
   "execution_count": 49,
   "metadata": {
    "scrolled": false
   },
   "outputs": [],
   "source": [
    "# Need to find the max(EXITS) for each (SCP) by DATE\n",
    "#This excludes the EXITS count from TIME 20:00-23:59 each day. The data from this date frame is not as relevant to my company of interest.\n",
    "#The EXITS count during this time is likely minimal. Additionally, scooters are reclaimed at night to charge to be redeployed the next morning.\n",
    "#I used .shift method with PREV_EXITS initially. However, for C/A==S101A, SCP==01-00-03 between 05/01/2019 and 05/02/2019 there was an unexplained jump from 432 to 1078346838.\n",
    "max_exit = df.groupby(['C/A','SCP','STATION','DATE','AREA'])[['EXITS']].max()"
   ]
  },
  {
   "cell_type": "code",
   "execution_count": 50,
   "metadata": {},
   "outputs": [],
   "source": [
    "# Need to find the min(EXITS) for each (SCP) by DATE\n",
    "min_exit = df.groupby(['C/A','SCP','STATION','DATE','AREA'])[['EXITS']].min()"
   ]
  },
  {
   "cell_type": "code",
   "execution_count": 51,
   "metadata": {
    "scrolled": false
   },
   "outputs": [
    {
     "data": {
      "text/html": [
       "<div>\n",
       "<style scoped>\n",
       "    .dataframe tbody tr th:only-of-type {\n",
       "        vertical-align: middle;\n",
       "    }\n",
       "\n",
       "    .dataframe tbody tr th {\n",
       "        vertical-align: top;\n",
       "    }\n",
       "\n",
       "    .dataframe thead th {\n",
       "        text-align: right;\n",
       "    }\n",
       "</style>\n",
       "<table border=\"1\" class=\"dataframe\">\n",
       "  <thead>\n",
       "    <tr style=\"text-align: right;\">\n",
       "      <th></th>\n",
       "      <th></th>\n",
       "      <th></th>\n",
       "      <th></th>\n",
       "      <th></th>\n",
       "      <th>EXITS_x</th>\n",
       "      <th>EXITS_y</th>\n",
       "    </tr>\n",
       "    <tr>\n",
       "      <th>C/A</th>\n",
       "      <th>SCP</th>\n",
       "      <th>STATION</th>\n",
       "      <th>DATE</th>\n",
       "      <th>AREA</th>\n",
       "      <th></th>\n",
       "      <th></th>\n",
       "    </tr>\n",
       "  </thead>\n",
       "  <tbody>\n",
       "    <tr>\n",
       "      <th rowspan=\"5\" valign=\"top\">A002</th>\n",
       "      <th rowspan=\"5\" valign=\"top\">02-00-00</th>\n",
       "      <th rowspan=\"5\" valign=\"top\">59 ST-BMT</th>\n",
       "      <th>04/27/2019</th>\n",
       "      <th>BROOKLYN</th>\n",
       "      <td>2385070.0</td>\n",
       "      <td>2384833.0</td>\n",
       "    </tr>\n",
       "    <tr>\n",
       "      <th>04/28/2019</th>\n",
       "      <th>BROOKLYN</th>\n",
       "      <td>2385240.0</td>\n",
       "      <td>2385087.0</td>\n",
       "    </tr>\n",
       "    <tr>\n",
       "      <th>04/29/2019</th>\n",
       "      <th>BROOKLYN</th>\n",
       "      <td>2385732.0</td>\n",
       "      <td>2385256.0</td>\n",
       "    </tr>\n",
       "    <tr>\n",
       "      <th>04/30/2019</th>\n",
       "      <th>BROOKLYN</th>\n",
       "      <td>2386197.0</td>\n",
       "      <td>2385765.0</td>\n",
       "    </tr>\n",
       "    <tr>\n",
       "      <th>05/01/2019</th>\n",
       "      <th>BROOKLYN</th>\n",
       "      <td>2386673.0</td>\n",
       "      <td>2386229.0</td>\n",
       "    </tr>\n",
       "  </tbody>\n",
       "</table>\n",
       "</div>"
      ],
      "text/plain": [
       "                                               EXITS_x    EXITS_y\n",
       "C/A  SCP      STATION   DATE       AREA                          \n",
       "A002 02-00-00 59 ST-BMT 04/27/2019 BROOKLYN  2385070.0  2384833.0\n",
       "                        04/28/2019 BROOKLYN  2385240.0  2385087.0\n",
       "                        04/29/2019 BROOKLYN  2385732.0  2385256.0\n",
       "                        04/30/2019 BROOKLYN  2386197.0  2385765.0\n",
       "                        05/01/2019 BROOKLYN  2386673.0  2386229.0"
      ]
     },
     "execution_count": 51,
     "metadata": {},
     "output_type": "execute_result"
    }
   ],
   "source": [
    "#Merging total scp exits data into one df, on matching SCP column\n",
    "total_scp_exit = pd.merge(max_exit, min_exit, on=['C/A','SCP','STATION','DATE','AREA'])\n",
    "total_scp_exit.head()"
   ]
  },
  {
   "cell_type": "code",
   "execution_count": 52,
   "metadata": {
    "scrolled": true
   },
   "outputs": [
    {
     "data": {
      "text/html": [
       "<div>\n",
       "<style scoped>\n",
       "    .dataframe tbody tr th:only-of-type {\n",
       "        vertical-align: middle;\n",
       "    }\n",
       "\n",
       "    .dataframe tbody tr th {\n",
       "        vertical-align: top;\n",
       "    }\n",
       "\n",
       "    .dataframe thead th {\n",
       "        text-align: right;\n",
       "    }\n",
       "</style>\n",
       "<table border=\"1\" class=\"dataframe\">\n",
       "  <thead>\n",
       "    <tr style=\"text-align: right;\">\n",
       "      <th></th>\n",
       "      <th></th>\n",
       "      <th></th>\n",
       "      <th></th>\n",
       "      <th></th>\n",
       "      <th>EXITS_x</th>\n",
       "      <th>EXITS_y</th>\n",
       "      <th>exits_per_day</th>\n",
       "    </tr>\n",
       "    <tr>\n",
       "      <th>C/A</th>\n",
       "      <th>SCP</th>\n",
       "      <th>STATION</th>\n",
       "      <th>DATE</th>\n",
       "      <th>AREA</th>\n",
       "      <th></th>\n",
       "      <th></th>\n",
       "      <th></th>\n",
       "    </tr>\n",
       "  </thead>\n",
       "  <tbody>\n",
       "    <tr>\n",
       "      <th rowspan=\"5\" valign=\"top\">A002</th>\n",
       "      <th rowspan=\"5\" valign=\"top\">02-00-00</th>\n",
       "      <th rowspan=\"5\" valign=\"top\">59 ST-BMT</th>\n",
       "      <th>04/27/2019</th>\n",
       "      <th>BROOKLYN</th>\n",
       "      <td>2385070.0</td>\n",
       "      <td>2384833.0</td>\n",
       "      <td>237.0</td>\n",
       "    </tr>\n",
       "    <tr>\n",
       "      <th>04/28/2019</th>\n",
       "      <th>BROOKLYN</th>\n",
       "      <td>2385240.0</td>\n",
       "      <td>2385087.0</td>\n",
       "      <td>153.0</td>\n",
       "    </tr>\n",
       "    <tr>\n",
       "      <th>04/29/2019</th>\n",
       "      <th>BROOKLYN</th>\n",
       "      <td>2385732.0</td>\n",
       "      <td>2385256.0</td>\n",
       "      <td>476.0</td>\n",
       "    </tr>\n",
       "    <tr>\n",
       "      <th>04/30/2019</th>\n",
       "      <th>BROOKLYN</th>\n",
       "      <td>2386197.0</td>\n",
       "      <td>2385765.0</td>\n",
       "      <td>432.0</td>\n",
       "    </tr>\n",
       "    <tr>\n",
       "      <th>05/01/2019</th>\n",
       "      <th>BROOKLYN</th>\n",
       "      <td>2386673.0</td>\n",
       "      <td>2386229.0</td>\n",
       "      <td>444.0</td>\n",
       "    </tr>\n",
       "  </tbody>\n",
       "</table>\n",
       "</div>"
      ],
      "text/plain": [
       "                                               EXITS_x    EXITS_y  \\\n",
       "C/A  SCP      STATION   DATE       AREA                             \n",
       "A002 02-00-00 59 ST-BMT 04/27/2019 BROOKLYN  2385070.0  2384833.0   \n",
       "                        04/28/2019 BROOKLYN  2385240.0  2385087.0   \n",
       "                        04/29/2019 BROOKLYN  2385732.0  2385256.0   \n",
       "                        04/30/2019 BROOKLYN  2386197.0  2385765.0   \n",
       "                        05/01/2019 BROOKLYN  2386673.0  2386229.0   \n",
       "\n",
       "                                             exits_per_day  \n",
       "C/A  SCP      STATION   DATE       AREA                     \n",
       "A002 02-00-00 59 ST-BMT 04/27/2019 BROOKLYN          237.0  \n",
       "                        04/28/2019 BROOKLYN          153.0  \n",
       "                        04/29/2019 BROOKLYN          476.0  \n",
       "                        04/30/2019 BROOKLYN          432.0  \n",
       "                        05/01/2019 BROOKLYN          444.0  "
      ]
     },
     "execution_count": 52,
     "metadata": {},
     "output_type": "execute_result"
    }
   ],
   "source": [
    "# total_scp_exits = max-min for each turnstile SCP per DATE BETWEEN 00:00 and ~20:00 (or last time-count)\n",
    "total_scp_exit['exits_per_day'] = total_scp_exit['EXITS_x']-total_scp_exit['EXITS_y']\n",
    "total_scp_exit.head()"
   ]
  },
  {
   "cell_type": "code",
   "execution_count": 69,
   "metadata": {
    "scrolled": true
   },
   "outputs": [
    {
     "data": {
      "text/html": [
       "<div>\n",
       "<style scoped>\n",
       "    .dataframe tbody tr th:only-of-type {\n",
       "        vertical-align: middle;\n",
       "    }\n",
       "\n",
       "    .dataframe tbody tr th {\n",
       "        vertical-align: top;\n",
       "    }\n",
       "\n",
       "    .dataframe thead th {\n",
       "        text-align: right;\n",
       "    }\n",
       "</style>\n",
       "<table border=\"1\" class=\"dataframe\">\n",
       "  <thead>\n",
       "    <tr style=\"text-align: right;\">\n",
       "      <th></th>\n",
       "      <th></th>\n",
       "      <th></th>\n",
       "      <th></th>\n",
       "      <th></th>\n",
       "      <th>EXITS_x</th>\n",
       "      <th>EXITS_y</th>\n",
       "      <th>exits_per_day</th>\n",
       "    </tr>\n",
       "    <tr>\n",
       "      <th>C/A</th>\n",
       "      <th>SCP</th>\n",
       "      <th>STATION</th>\n",
       "      <th>DATE</th>\n",
       "      <th>AREA</th>\n",
       "      <th></th>\n",
       "      <th></th>\n",
       "      <th></th>\n",
       "    </tr>\n",
       "  </thead>\n",
       "  <tbody>\n",
       "    <tr>\n",
       "      <th>C008</th>\n",
       "      <th>00-00-00</th>\n",
       "      <th>DEKALB AV</th>\n",
       "      <th>07/26/2019</th>\n",
       "      <th>BROOKLYN</th>\n",
       "      <td>1.850345e+09</td>\n",
       "      <td>8702864.0</td>\n",
       "      <td>1.841642e+09</td>\n",
       "    </tr>\n",
       "    <tr>\n",
       "      <th>N207</th>\n",
       "      <th>00-00-00</th>\n",
       "      <th>167 ST</th>\n",
       "      <th>06/14/2019</th>\n",
       "      <th>BRONX</th>\n",
       "      <td>1.828766e+09</td>\n",
       "      <td>7175686.0</td>\n",
       "      <td>1.821591e+09</td>\n",
       "    </tr>\n",
       "    <tr>\n",
       "      <th>R401</th>\n",
       "      <th>00-00-00</th>\n",
       "      <th>3 AV 138 ST</th>\n",
       "      <th>07/14/2019</th>\n",
       "      <th>BRONX</th>\n",
       "      <td>1.426011e+09</td>\n",
       "      <td>11255249.0</td>\n",
       "      <td>1.414756e+09</td>\n",
       "    </tr>\n",
       "    <tr>\n",
       "      <th>R258</th>\n",
       "      <th>00-06-00</th>\n",
       "      <th>125 ST</th>\n",
       "      <th>07/04/2019</th>\n",
       "      <th>MANHATTAN</th>\n",
       "      <td>1.409339e+09</td>\n",
       "      <td>5560810.0</td>\n",
       "      <td>1.403778e+09</td>\n",
       "    </tr>\n",
       "    <tr>\n",
       "      <th>R311</th>\n",
       "      <th>00-00-00</th>\n",
       "      <th>3 AV-149 ST</th>\n",
       "      <th>06/19/2019</th>\n",
       "      <th>BRONX</th>\n",
       "      <td>1.476891e+09</td>\n",
       "      <td>123244243.0</td>\n",
       "      <td>1.353647e+09</td>\n",
       "    </tr>\n",
       "    <tr>\n",
       "      <th>...</th>\n",
       "      <th>...</th>\n",
       "      <th>...</th>\n",
       "      <th>...</th>\n",
       "      <th>...</th>\n",
       "      <td>...</td>\n",
       "      <td>...</td>\n",
       "      <td>...</td>\n",
       "    </tr>\n",
       "    <tr>\n",
       "      <th rowspan=\"4\" valign=\"top\">N120</th>\n",
       "      <th rowspan=\"4\" valign=\"top\">00-05-00</th>\n",
       "      <th rowspan=\"4\" valign=\"top\">UTICA AV</th>\n",
       "      <th>06/04/2019</th>\n",
       "      <th>BROOKLYN</th>\n",
       "      <td>0.000000e+00</td>\n",
       "      <td>0.0</td>\n",
       "      <td>0.000000e+00</td>\n",
       "    </tr>\n",
       "    <tr>\n",
       "      <th>06/03/2019</th>\n",
       "      <th>BROOKLYN</th>\n",
       "      <td>0.000000e+00</td>\n",
       "      <td>0.0</td>\n",
       "      <td>0.000000e+00</td>\n",
       "    </tr>\n",
       "    <tr>\n",
       "      <th>06/02/2019</th>\n",
       "      <th>BROOKLYN</th>\n",
       "      <td>0.000000e+00</td>\n",
       "      <td>0.0</td>\n",
       "      <td>0.000000e+00</td>\n",
       "    </tr>\n",
       "    <tr>\n",
       "      <th>06/01/2019</th>\n",
       "      <th>BROOKLYN</th>\n",
       "      <td>0.000000e+00</td>\n",
       "      <td>0.0</td>\n",
       "      <td>0.000000e+00</td>\n",
       "    </tr>\n",
       "    <tr>\n",
       "      <th>TRAM2</th>\n",
       "      <th>00-05-01</th>\n",
       "      <th>RIT-ROOSEVELT</th>\n",
       "      <th>07/26/2019</th>\n",
       "      <th>MANHATTAN</th>\n",
       "      <td>3.830000e+02</td>\n",
       "      <td>383.0</td>\n",
       "      <td>0.000000e+00</td>\n",
       "    </tr>\n",
       "  </tbody>\n",
       "</table>\n",
       "<p>413541 rows × 3 columns</p>\n",
       "</div>"
      ],
      "text/plain": [
       "                                                        EXITS_x      EXITS_y  \\\n",
       "C/A   SCP      STATION       DATE       AREA                                   \n",
       "C008  00-00-00 DEKALB AV     07/26/2019 BROOKLYN   1.850345e+09    8702864.0   \n",
       "N207  00-00-00 167 ST        06/14/2019 BRONX      1.828766e+09    7175686.0   \n",
       "R401  00-00-00 3 AV 138 ST   07/14/2019 BRONX      1.426011e+09   11255249.0   \n",
       "R258  00-06-00 125 ST        07/04/2019 MANHATTAN  1.409339e+09    5560810.0   \n",
       "R311  00-00-00 3 AV-149 ST   06/19/2019 BRONX      1.476891e+09  123244243.0   \n",
       "...                                                         ...          ...   \n",
       "N120  00-05-00 UTICA AV      06/04/2019 BROOKLYN   0.000000e+00          0.0   \n",
       "                             06/03/2019 BROOKLYN   0.000000e+00          0.0   \n",
       "                             06/02/2019 BROOKLYN   0.000000e+00          0.0   \n",
       "                             06/01/2019 BROOKLYN   0.000000e+00          0.0   \n",
       "TRAM2 00-05-01 RIT-ROOSEVELT 07/26/2019 MANHATTAN  3.830000e+02        383.0   \n",
       "\n",
       "                                                   exits_per_day  \n",
       "C/A   SCP      STATION       DATE       AREA                      \n",
       "C008  00-00-00 DEKALB AV     07/26/2019 BROOKLYN    1.841642e+09  \n",
       "N207  00-00-00 167 ST        06/14/2019 BRONX       1.821591e+09  \n",
       "R401  00-00-00 3 AV 138 ST   07/14/2019 BRONX       1.414756e+09  \n",
       "R258  00-06-00 125 ST        07/04/2019 MANHATTAN   1.403778e+09  \n",
       "R311  00-00-00 3 AV-149 ST   06/19/2019 BRONX       1.353647e+09  \n",
       "...                                                          ...  \n",
       "N120  00-05-00 UTICA AV      06/04/2019 BROOKLYN    0.000000e+00  \n",
       "                             06/03/2019 BROOKLYN    0.000000e+00  \n",
       "                             06/02/2019 BROOKLYN    0.000000e+00  \n",
       "                             06/01/2019 BROOKLYN    0.000000e+00  \n",
       "TRAM2 00-05-01 RIT-ROOSEVELT 07/26/2019 MANHATTAN   0.000000e+00  \n",
       "\n",
       "[413541 rows x 3 columns]"
      ]
     },
     "execution_count": 69,
     "metadata": {},
     "output_type": "execute_result"
    }
   ],
   "source": [
    "#There are some large inexplicable jumps in the EXITS count for a single SCP\n",
    "total_scp_exit.sort_values(['exits_per_day'], ascending=False)"
   ]
  },
  {
   "cell_type": "code",
   "execution_count": 72,
   "metadata": {
    "scrolled": true
   },
   "outputs": [
    {
     "data": {
      "text/plain": [
       "<seaborn.axisgrid.FacetGrid at 0x1fa6d16ca90>"
      ]
     },
     "execution_count": 72,
     "metadata": {},
     "output_type": "execute_result"
    },
    {
     "data": {
      "image/png": "[encoded data removed]",
      "text/plain": [
       "<Figure size 360x360 with 1 Axes>"
      ]
     },
     "metadata": {
      "needs_background": "light"
     },
     "output_type": "display_data"
    }
   ],
   "source": [
    "sns.displot(total_scp_exit[(total_scp_exit.exits_per_day <51325)].exits_per_day)\n",
    "#This shows distribution of exits_per_day values"
   ]
  },
  {
   "cell_type": "code",
   "execution_count": 71,
   "metadata": {},
   "outputs": [
    {
     "data": {
      "text/html": [
       "<div>\n",
       "<style scoped>\n",
       "    .dataframe tbody tr th:only-of-type {\n",
       "        vertical-align: middle;\n",
       "    }\n",
       "\n",
       "    .dataframe tbody tr th {\n",
       "        vertical-align: top;\n",
       "    }\n",
       "\n",
       "    .dataframe thead th {\n",
       "        text-align: right;\n",
       "    }\n",
       "</style>\n",
       "<table border=\"1\" class=\"dataframe\">\n",
       "  <thead>\n",
       "    <tr style=\"text-align: right;\">\n",
       "      <th></th>\n",
       "      <th>EXITS_x</th>\n",
       "      <th>EXITS_y</th>\n",
       "      <th>exits_per_day</th>\n",
       "    </tr>\n",
       "  </thead>\n",
       "  <tbody>\n",
       "    <tr>\n",
       "      <th>count</th>\n",
       "      <td>4.135410e+05</td>\n",
       "      <td>4.135410e+05</td>\n",
       "      <td>4.135410e+05</td>\n",
       "    </tr>\n",
       "    <tr>\n",
       "      <th>mean</th>\n",
       "      <td>3.615268e+07</td>\n",
       "      <td>3.610136e+07</td>\n",
       "      <td>5.132585e+04</td>\n",
       "    </tr>\n",
       "    <tr>\n",
       "      <th>std</th>\n",
       "      <td>2.013725e+08</td>\n",
       "      <td>2.012513e+08</td>\n",
       "      <td>7.086530e+06</td>\n",
       "    </tr>\n",
       "    <tr>\n",
       "      <th>min</th>\n",
       "      <td>0.000000e+00</td>\n",
       "      <td>0.000000e+00</td>\n",
       "      <td>0.000000e+00</td>\n",
       "    </tr>\n",
       "    <tr>\n",
       "      <th>25%</th>\n",
       "      <td>2.074170e+05</td>\n",
       "      <td>2.064270e+05</td>\n",
       "      <td>1.520000e+02</td>\n",
       "    </tr>\n",
       "    <tr>\n",
       "      <th>50%</th>\n",
       "      <td>1.422380e+06</td>\n",
       "      <td>1.420913e+06</td>\n",
       "      <td>4.610000e+02</td>\n",
       "    </tr>\n",
       "    <tr>\n",
       "      <th>75%</th>\n",
       "      <td>4.961140e+06</td>\n",
       "      <td>4.958675e+06</td>\n",
       "      <td>1.006000e+03</td>\n",
       "    </tr>\n",
       "    <tr>\n",
       "      <th>max</th>\n",
       "      <td>2.124127e+09</td>\n",
       "      <td>2.124125e+09</td>\n",
       "      <td>1.841642e+09</td>\n",
       "    </tr>\n",
       "  </tbody>\n",
       "</table>\n",
       "</div>"
      ],
      "text/plain": [
       "            EXITS_x       EXITS_y  exits_per_day\n",
       "count  4.135410e+05  4.135410e+05   4.135410e+05\n",
       "mean   3.615268e+07  3.610136e+07   5.132585e+04\n",
       "std    2.013725e+08  2.012513e+08   7.086530e+06\n",
       "min    0.000000e+00  0.000000e+00   0.000000e+00\n",
       "25%    2.074170e+05  2.064270e+05   1.520000e+02\n",
       "50%    1.422380e+06  1.420913e+06   4.610000e+02\n",
       "75%    4.961140e+06  4.958675e+06   1.006000e+03\n",
       "max    2.124127e+09  2.124125e+09   1.841642e+09"
      ]
     },
     "execution_count": 71,
     "metadata": {},
     "output_type": "execute_result"
    }
   ],
   "source": [
    "total_scp_exit.describe()"
   ]
  },
  {
   "cell_type": "code",
   "execution_count": 77,
   "metadata": {},
   "outputs": [],
   "source": [
    "#Remove SCP exits_per_day values > 51325\n",
    "total_scp_exit2 = total_scp_exit[(total_scp_exit.exits_per_day <51325)]"
   ]
  },
  {
   "cell_type": "code",
   "execution_count": 79,
   "metadata": {
    "scrolled": false
   },
   "outputs": [
    {
     "data": {
      "text/html": [
       "<div>\n",
       "<style scoped>\n",
       "    .dataframe tbody tr th:only-of-type {\n",
       "        vertical-align: middle;\n",
       "    }\n",
       "\n",
       "    .dataframe tbody tr th {\n",
       "        vertical-align: top;\n",
       "    }\n",
       "\n",
       "    .dataframe thead th {\n",
       "        text-align: right;\n",
       "    }\n",
       "</style>\n",
       "<table border=\"1\" class=\"dataframe\">\n",
       "  <thead>\n",
       "    <tr style=\"text-align: right;\">\n",
       "      <th></th>\n",
       "      <th></th>\n",
       "      <th></th>\n",
       "      <th>exits_per_day</th>\n",
       "    </tr>\n",
       "    <tr>\n",
       "      <th>STATION</th>\n",
       "      <th>DATE</th>\n",
       "      <th>AREA</th>\n",
       "      <th></th>\n",
       "    </tr>\n",
       "  </thead>\n",
       "  <tbody>\n",
       "    <tr>\n",
       "      <th rowspan=\"5\" valign=\"top\">1 AV</th>\n",
       "      <th>04/27/2019</th>\n",
       "      <th>MANHATTAN</th>\n",
       "      <td>7198.0</td>\n",
       "    </tr>\n",
       "    <tr>\n",
       "      <th>04/28/2019</th>\n",
       "      <th>MANHATTAN</th>\n",
       "      <td>5370.0</td>\n",
       "    </tr>\n",
       "    <tr>\n",
       "      <th>04/29/2019</th>\n",
       "      <th>MANHATTAN</th>\n",
       "      <td>18262.0</td>\n",
       "    </tr>\n",
       "    <tr>\n",
       "      <th>04/30/2019</th>\n",
       "      <th>MANHATTAN</th>\n",
       "      <td>18519.0</td>\n",
       "    </tr>\n",
       "    <tr>\n",
       "      <th>05/01/2019</th>\n",
       "      <th>MANHATTAN</th>\n",
       "      <td>19184.0</td>\n",
       "    </tr>\n",
       "  </tbody>\n",
       "</table>\n",
       "</div>"
      ],
      "text/plain": [
       "                              exits_per_day\n",
       "STATION DATE       AREA                    \n",
       "1 AV    04/27/2019 MANHATTAN         7198.0\n",
       "        04/28/2019 MANHATTAN         5370.0\n",
       "        04/29/2019 MANHATTAN        18262.0\n",
       "        04/30/2019 MANHATTAN        18519.0\n",
       "        05/01/2019 MANHATTAN        19184.0"
      ]
     },
     "execution_count": 79,
     "metadata": {},
     "output_type": "execute_result"
    }
   ],
   "source": [
    "#Find AVG EXITS per day per STATION.\n",
    "avg_daily_exit = total_scp_exit2.groupby(['STATION','DATE','AREA'])[['exits_per_day']].sum()\n",
    "avg_daily_exit.head()"
   ]
  },
  {
   "cell_type": "code",
   "execution_count": 80,
   "metadata": {},
   "outputs": [
    {
     "data": {
      "text/html": [
       "<div>\n",
       "<style scoped>\n",
       "    .dataframe tbody tr th:only-of-type {\n",
       "        vertical-align: middle;\n",
       "    }\n",
       "\n",
       "    .dataframe tbody tr th {\n",
       "        vertical-align: top;\n",
       "    }\n",
       "\n",
       "    .dataframe thead th {\n",
       "        text-align: right;\n",
       "    }\n",
       "</style>\n",
       "<table border=\"1\" class=\"dataframe\">\n",
       "  <thead>\n",
       "    <tr style=\"text-align: right;\">\n",
       "      <th></th>\n",
       "      <th>exits_per_day</th>\n",
       "    </tr>\n",
       "  </thead>\n",
       "  <tbody>\n",
       "    <tr>\n",
       "      <th>count</th>\n",
       "      <td>33822.000000</td>\n",
       "    </tr>\n",
       "    <tr>\n",
       "      <th>mean</th>\n",
       "      <td>9091.422033</td>\n",
       "    </tr>\n",
       "    <tr>\n",
       "      <th>std</th>\n",
       "      <td>15627.489089</td>\n",
       "    </tr>\n",
       "    <tr>\n",
       "      <th>min</th>\n",
       "      <td>0.000000</td>\n",
       "    </tr>\n",
       "    <tr>\n",
       "      <th>25%</th>\n",
       "      <td>1920.000000</td>\n",
       "    </tr>\n",
       "    <tr>\n",
       "      <th>50%</th>\n",
       "      <td>4181.000000</td>\n",
       "    </tr>\n",
       "    <tr>\n",
       "      <th>75%</th>\n",
       "      <td>9210.250000</td>\n",
       "    </tr>\n",
       "    <tr>\n",
       "      <th>max</th>\n",
       "      <td>158369.000000</td>\n",
       "    </tr>\n",
       "  </tbody>\n",
       "</table>\n",
       "</div>"
      ],
      "text/plain": [
       "       exits_per_day\n",
       "count   33822.000000\n",
       "mean     9091.422033\n",
       "std     15627.489089\n",
       "min         0.000000\n",
       "25%      1920.000000\n",
       "50%      4181.000000\n",
       "75%      9210.250000\n",
       "max    158369.000000"
      ]
     },
     "execution_count": 80,
     "metadata": {},
     "output_type": "execute_result"
    }
   ],
   "source": [
    "avg_daily_exit.describe()"
   ]
  },
  {
   "cell_type": "code",
   "execution_count": 56,
   "metadata": {
    "scrolled": false
   },
   "outputs": [
    {
     "data": {
      "text/html": [
       "<div>\n",
       "<style scoped>\n",
       "    .dataframe tbody tr th:only-of-type {\n",
       "        vertical-align: middle;\n",
       "    }\n",
       "\n",
       "    .dataframe tbody tr th {\n",
       "        vertical-align: top;\n",
       "    }\n",
       "\n",
       "    .dataframe thead th {\n",
       "        text-align: right;\n",
       "    }\n",
       "</style>\n",
       "<table border=\"1\" class=\"dataframe\">\n",
       "  <thead>\n",
       "    <tr style=\"text-align: right;\">\n",
       "      <th></th>\n",
       "      <th></th>\n",
       "      <th>exits_per_day</th>\n",
       "    </tr>\n",
       "    <tr>\n",
       "      <th>STATION</th>\n",
       "      <th>AREA</th>\n",
       "      <th></th>\n",
       "    </tr>\n",
       "  </thead>\n",
       "  <tbody>\n",
       "    <tr>\n",
       "      <th>1 AV</th>\n",
       "      <th>MANHATTAN</th>\n",
       "      <td>14497.769231</td>\n",
       "    </tr>\n",
       "    <tr>\n",
       "      <th>103 ST</th>\n",
       "      <th>MANHATTAN</th>\n",
       "      <td>15729.142857</td>\n",
       "    </tr>\n",
       "    <tr>\n",
       "      <th>103 ST-CORONA</th>\n",
       "      <th>QUEENS</th>\n",
       "      <td>10208.659341</td>\n",
       "    </tr>\n",
       "    <tr>\n",
       "      <th>104 ST</th>\n",
       "      <th>QUEENS</th>\n",
       "      <td>1430.538462</td>\n",
       "    </tr>\n",
       "    <tr>\n",
       "      <th>110 ST</th>\n",
       "      <th>MANHATTAN</th>\n",
       "      <td>6932.659341</td>\n",
       "    </tr>\n",
       "    <tr>\n",
       "      <th>111 ST</th>\n",
       "      <th>QUEENS</th>\n",
       "      <td>6228.582418</td>\n",
       "    </tr>\n",
       "    <tr>\n",
       "      <th>116 ST</th>\n",
       "      <th>MANHATTAN</th>\n",
       "      <td>15001.527473</td>\n",
       "    </tr>\n",
       "    <tr>\n",
       "      <th>116 ST-COLUMBIA</th>\n",
       "      <th>MANHATTAN</th>\n",
       "      <td>5029.461538</td>\n",
       "    </tr>\n",
       "    <tr>\n",
       "      <th>121 ST</th>\n",
       "      <th>QUEENS</th>\n",
       "      <td>1135.263736</td>\n",
       "    </tr>\n",
       "    <tr>\n",
       "      <th>125 ST</th>\n",
       "      <th>MANHATTAN</th>\n",
       "      <td>49736.604396</td>\n",
       "    </tr>\n",
       "    <tr>\n",
       "      <th>135 ST</th>\n",
       "      <th>MANHATTAN</th>\n",
       "      <td>6648.989011</td>\n",
       "    </tr>\n",
       "    <tr>\n",
       "      <th>137 ST CITY COL</th>\n",
       "      <th>MANHATTAN</th>\n",
       "      <td>7297.120879</td>\n",
       "    </tr>\n",
       "    <tr>\n",
       "      <th>138/GRAND CONC</th>\n",
       "      <th>BRONX</th>\n",
       "      <td>2390.461538</td>\n",
       "    </tr>\n",
       "    <tr>\n",
       "      <th>14 ST</th>\n",
       "      <th>MANHATTAN</th>\n",
       "      <td>42408.637363</td>\n",
       "    </tr>\n",
       "    <tr>\n",
       "      <th>14 ST-UNION SQ</th>\n",
       "      <th>MANHATTAN</th>\n",
       "      <td>76886.615385</td>\n",
       "    </tr>\n",
       "  </tbody>\n",
       "</table>\n",
       "</div>"
      ],
      "text/plain": [
       "                           exits_per_day\n",
       "STATION         AREA                    \n",
       "1 AV            MANHATTAN   14497.769231\n",
       "103 ST          MANHATTAN   15729.142857\n",
       "103 ST-CORONA   QUEENS      10208.659341\n",
       "104 ST          QUEENS       1430.538462\n",
       "110 ST          MANHATTAN    6932.659341\n",
       "111 ST          QUEENS       6228.582418\n",
       "116 ST          MANHATTAN   15001.527473\n",
       "116 ST-COLUMBIA MANHATTAN    5029.461538\n",
       "121 ST          QUEENS       1135.263736\n",
       "125 ST          MANHATTAN   49736.604396\n",
       "135 ST          MANHATTAN    6648.989011\n",
       "137 ST CITY COL MANHATTAN    7297.120879\n",
       "138/GRAND CONC  BRONX        2390.461538\n",
       "14 ST           MANHATTAN   42408.637363\n",
       "14 ST-UNION SQ  MANHATTAN   76886.615385"
      ]
     },
     "execution_count": 56,
     "metadata": {},
     "output_type": "execute_result"
    }
   ],
   "source": [
    "#Group by STATION and return the mean of daily exits of all SCP per C/A\n",
    "station_daily = avg_daily_exit.groupby(['STATION','AREA'])[['exits_per_day']].mean()\n",
    "station_daily.head(15)"
   ]
  },
  {
   "cell_type": "code",
   "execution_count": 38,
   "metadata": {},
   "outputs": [
    {
     "data": {
      "text/plain": [
       "<seaborn.axisgrid.FacetGrid at 0x1fa6cb083d0>"
      ]
     },
     "execution_count": 38,
     "metadata": {},
     "output_type": "execute_result"
    },
    {
     "data": {
      "image/png": "[encoded data removed]",
      "text/plain": [
       "<Figure size 360x360 with 1 Axes>"
      ]
     },
     "metadata": {
      "needs_background": "light"
     },
     "output_type": "display_data"
    }
   ],
   "source": [
    "sns.displot(station_daily.exits_per_day)"
   ]
  },
  {
   "cell_type": "code",
   "execution_count": 57,
   "metadata": {
    "scrolled": true
   },
   "outputs": [
    {
     "data": {
      "text/html": [
       "<div>\n",
       "<style scoped>\n",
       "    .dataframe tbody tr th:only-of-type {\n",
       "        vertical-align: middle;\n",
       "    }\n",
       "\n",
       "    .dataframe tbody tr th {\n",
       "        vertical-align: top;\n",
       "    }\n",
       "\n",
       "    .dataframe thead th {\n",
       "        text-align: right;\n",
       "    }\n",
       "</style>\n",
       "<table border=\"1\" class=\"dataframe\">\n",
       "  <thead>\n",
       "    <tr style=\"text-align: right;\">\n",
       "      <th></th>\n",
       "      <th></th>\n",
       "      <th>exits_per_day</th>\n",
       "    </tr>\n",
       "    <tr>\n",
       "      <th>STATION</th>\n",
       "      <th>AREA</th>\n",
       "      <th></th>\n",
       "    </tr>\n",
       "  </thead>\n",
       "  <tbody>\n",
       "    <tr>\n",
       "      <th>34 ST-PENN STA</th>\n",
       "      <th>MANHATTAN</th>\n",
       "      <td>122217.98</td>\n",
       "    </tr>\n",
       "    <tr>\n",
       "      <th>GRD CNTRL-42 ST</th>\n",
       "      <th>MANHATTAN</th>\n",
       "      <td>109232.98</td>\n",
       "    </tr>\n",
       "    <tr>\n",
       "      <th>34 ST-HERALD SQ</th>\n",
       "      <th>MANHATTAN</th>\n",
       "      <td>91426.26</td>\n",
       "    </tr>\n",
       "    <tr>\n",
       "      <th>14 ST-UNION SQ</th>\n",
       "      <th>MANHATTAN</th>\n",
       "      <td>76886.62</td>\n",
       "    </tr>\n",
       "    <tr>\n",
       "      <th>TIMES SQ-42 ST</th>\n",
       "      <th>MANHATTAN</th>\n",
       "      <td>76234.02</td>\n",
       "    </tr>\n",
       "    <tr>\n",
       "      <th>42 ST-PORT AUTH</th>\n",
       "      <th>MANHATTAN</th>\n",
       "      <td>65942.90</td>\n",
       "    </tr>\n",
       "    <tr>\n",
       "      <th>23 ST</th>\n",
       "      <th>MANHATTAN</th>\n",
       "      <td>65686.26</td>\n",
       "    </tr>\n",
       "    <tr>\n",
       "      <th>FULTON ST</th>\n",
       "      <th>MANHATTAN</th>\n",
       "      <td>64196.67</td>\n",
       "    </tr>\n",
       "    <tr>\n",
       "      <th>86 ST</th>\n",
       "      <th>MANHATTAN</th>\n",
       "      <td>56039.32</td>\n",
       "    </tr>\n",
       "    <tr>\n",
       "      <th>CANAL ST</th>\n",
       "      <th>MANHATTAN</th>\n",
       "      <td>51114.05</td>\n",
       "    </tr>\n",
       "  </tbody>\n",
       "</table>\n",
       "</div>"
      ],
      "text/plain": [
       "                           exits_per_day\n",
       "STATION         AREA                    \n",
       "34 ST-PENN STA  MANHATTAN      122217.98\n",
       "GRD CNTRL-42 ST MANHATTAN      109232.98\n",
       "34 ST-HERALD SQ MANHATTAN       91426.26\n",
       "14 ST-UNION SQ  MANHATTAN       76886.62\n",
       "TIMES SQ-42 ST  MANHATTAN       76234.02\n",
       "42 ST-PORT AUTH MANHATTAN       65942.90\n",
       "23 ST           MANHATTAN       65686.26\n",
       "FULTON ST       MANHATTAN       64196.67\n",
       "86 ST           MANHATTAN       56039.32\n",
       "CANAL ST        MANHATTAN       51114.05"
      ]
     },
     "execution_count": 57,
     "metadata": {},
     "output_type": "execute_result"
    }
   ],
   "source": [
    "#Sorting DESC to find top 10 stations\n",
    "station_daily = station_daily.sort_values(by=['exits_per_day'],ascending=False).round(decimals=2)\n",
    "station_daily.head(10)"
   ]
  },
  {
   "cell_type": "code",
   "execution_count": 58,
   "metadata": {
    "scrolled": true
   },
   "outputs": [],
   "source": [
    "station_daily.reset_index(inplace=True)"
   ]
  },
  {
   "cell_type": "code",
   "execution_count": 59,
   "metadata": {},
   "outputs": [],
   "source": [
    "station_top10=station_daily.head(10)"
   ]
  },
  {
   "cell_type": "code",
   "execution_count": 60,
   "metadata": {},
   "outputs": [
    {
     "data": {
      "image/png": "[encoded data removed]",
      "text/plain": [
       "<Figure size 432x288 with 1 Axes>"
      ]
     },
     "metadata": {
      "needs_background": "light"
     },
     "output_type": "display_data"
    }
   ],
   "source": [
    "top_10 = sns.barplot(data=station_top10, x='exits_per_day', y='STATION')\n",
    "top_10.set(xlabel='Average Exits Per Day', ylabel='Station')\n",
    "top_10.figure.savefig(\"Top10.png\", bbox_inches='tight')"
   ]
  },
  {
   "cell_type": "markdown",
   "metadata": {},
   "source": [
    "SELECT * FROM mta_data m\n",
    "LEFT JOIN neighborhoods n ON m.field4 = n.field1\n",
    "#----\n",
    "UPDATE mta_data\n",
    "SET field4 ='PARK PLACE-IRT'\n",
    "WHERE field4 ='PARK PLACE' AND field6 ='IRT'\n",
    "#----\n",
    "UPDATE mta_data\n",
    "SET field4 ='PARK PLACE-BMT'\n",
    "WHERE field4 ='PARK PLACE' AND field6 ='BMT' \n",
    "#----\n",
    "UPDATE mta_data\n",
    "SET field4 ='BROADWAY-BMT'\n",
    "WHERE field4 ='BROADWAY' AND field6='BMT'\n",
    "#----  \n",
    "UPDATE mta_data    \n",
    "SET field4 ='BROADWAY-IND'\n",
    "WHERE field4 ='BROADWAY' AND field6='IND'\n",
    "#----\n",
    "UPDATE mta_data\n",
    "SET field4 ='59 ST-IRT'\n",
    "WHERE field4 ='59 ST' AND field6='IRT'\n",
    "#----\n",
    "UPDATE mta_data\n",
    "SET field4 ='59 ST-BMT'\n",
    "WHERE field4 ='59 ST' AND field6='BMT'\n",
    "#----#\n",
    "UPDATE mta_data\n",
    "SET field4 ='7 AV-BDE'\n",
    "WHERE field4 ='7 AV' AND field5='BDE'\n",
    "#----\n",
    "UPDATE mta_data\n",
    "SET field4 ='8 AV-N'\n",
    "WHERE field4 ='8 AV' AND field6='N'\n",
    "#----\n",
    "UPDATE mta_data\n",
    "SET field4 ='PROSPECT AV-2-5'\n",
    "WHERE field4 ='PROSPECT AV' AND field5='25'\n",
    "#----\n",
    "UPDATE mta_data\n",
    "SET field4 ='50 ST-D'\n",
    "WHERE Field4 ='50 ST' AND field5='D'\n",
    "#----\n",
    "UPDATE mta_data\n",
    "SET field4 ='77 ST-R'\n",
    "WHERE Field4 ='77 ST' AND field5='R'\n",
    "#----\n",
    "UPDATE mta_data\n",
    "SET field4 ='79 ST-D'\n",
    "WHERE Field4 ='79 ST' AND field5='D'\n",
    "#----\n",
    "UPDATE mta_data\n",
    "SET field4 ='86 ST-R'\n",
    "WHERE Field4 ='86 ST' AND field5='R'\n",
    "#----\n",
    "UPDATE mta_data\n",
    "SET field4 ='FULTON ST-G'\n",
    "WHERE Field4 ='FULTON ST' AND field5='G'\n",
    "#----\n",
    "UPDATE mta_data\n",
    "SET field4 ='GRAND-ST-L'\n",
    "WHERE Field4 ='GRAND ST' AND field5='L'\n"
   ]
  },
  {
   "cell_type": "markdown",
   "metadata": {},
   "source": [
    "SELECT DISTINCT field4 FROM mta_data m\n",
    "LEFT JOIN neighborhoods n ON m.field4 = n.field1\n",
    "WHERE n.field2 IS NULL\n",
    "\n",
    "FUTURE WORK: predictive model, include rental data from companies at specific stations"
   ]
  },
  {
   "cell_type": "markdown",
   "metadata": {},
   "source": [
    "# Finding TOP 5 Stations Per Borough"
   ]
  },
  {
   "cell_type": "code",
   "execution_count": 61,
   "metadata": {},
   "outputs": [],
   "source": [
    "#Masks for each borough of interest\n",
    "brooklyn = (station_daily.AREA == 'BROOKLYN')\n",
    "bronx = (station_daily.AREA == 'BRONX')\n",
    "queens = (station_daily.AREA == 'QUEENS')\n",
    "manhattan = (station_daily.AREA == 'MANHATTAN')"
   ]
  },
  {
   "cell_type": "code",
   "execution_count": 63,
   "metadata": {
    "scrolled": true
   },
   "outputs": [
    {
     "data": {
      "text/html": [
       "<div>\n",
       "<style scoped>\n",
       "    .dataframe tbody tr th:only-of-type {\n",
       "        vertical-align: middle;\n",
       "    }\n",
       "\n",
       "    .dataframe tbody tr th {\n",
       "        vertical-align: top;\n",
       "    }\n",
       "\n",
       "    .dataframe thead th {\n",
       "        text-align: right;\n",
       "    }\n",
       "</style>\n",
       "<table border=\"1\" class=\"dataframe\">\n",
       "  <thead>\n",
       "    <tr style=\"text-align: right;\">\n",
       "      <th></th>\n",
       "      <th>STATION</th>\n",
       "      <th>AREA</th>\n",
       "      <th>exits_per_day</th>\n",
       "    </tr>\n",
       "  </thead>\n",
       "  <tbody>\n",
       "    <tr>\n",
       "      <th>17</th>\n",
       "      <td>FLUSHING-MAIN</td>\n",
       "      <td>BROOKLYN</td>\n",
       "      <td>35004.62</td>\n",
       "    </tr>\n",
       "    <tr>\n",
       "      <th>23</th>\n",
       "      <td>ATL AV-BARCLAY</td>\n",
       "      <td>BROOKLYN</td>\n",
       "      <td>31352.88</td>\n",
       "    </tr>\n",
       "    <tr>\n",
       "      <th>37</th>\n",
       "      <td>JAY ST-METROTEC</td>\n",
       "      <td>BROOKLYN</td>\n",
       "      <td>19763.36</td>\n",
       "    </tr>\n",
       "    <tr>\n",
       "      <th>38</th>\n",
       "      <td>CHURCH AV</td>\n",
       "      <td>BROOKLYN</td>\n",
       "      <td>18603.76</td>\n",
       "    </tr>\n",
       "    <tr>\n",
       "      <th>42</th>\n",
       "      <td>BOROUGH HALL</td>\n",
       "      <td>BROOKLYN</td>\n",
       "      <td>17891.07</td>\n",
       "    </tr>\n",
       "  </tbody>\n",
       "</table>\n",
       "</div>"
      ],
      "text/plain": [
       "            STATION      AREA  exits_per_day\n",
       "17    FLUSHING-MAIN  BROOKLYN       35004.62\n",
       "23   ATL AV-BARCLAY  BROOKLYN       31352.88\n",
       "37  JAY ST-METROTEC  BROOKLYN       19763.36\n",
       "38        CHURCH AV  BROOKLYN       18603.76\n",
       "42     BOROUGH HALL  BROOKLYN       17891.07"
      ]
     },
     "execution_count": 63,
     "metadata": {},
     "output_type": "execute_result"
    }
   ],
   "source": [
    "station_daily[brooklyn].head(5)"
   ]
  },
  {
   "cell_type": "code",
   "execution_count": 66,
   "metadata": {},
   "outputs": [
    {
     "data": {
      "image/png": "[encoded data removed]",
      "text/plain": [
       "<Figure size 432x288 with 1 Axes>"
      ]
     },
     "metadata": {
      "needs_background": "light"
     },
     "output_type": "display_data"
    }
   ],
   "source": [
    "brooklyn_top5 = sns.barplot(data=station_daily[brooklyn].head(5), x='exits_per_day', y='STATION')\n",
    "brooklyn_top5.set(xlabel='Average Exits Per Day', ylabel='Station')\n",
    "brooklyn_top5.figure.savefig(\"brooklyn_top5.png\", bbox_inches='tight')"
   ]
  },
  {
   "cell_type": "code",
   "execution_count": 64,
   "metadata": {
    "scrolled": false
   },
   "outputs": [
    {
     "data": {
      "text/html": [
       "<div>\n",
       "<style scoped>\n",
       "    .dataframe tbody tr th:only-of-type {\n",
       "        vertical-align: middle;\n",
       "    }\n",
       "\n",
       "    .dataframe tbody tr th {\n",
       "        vertical-align: top;\n",
       "    }\n",
       "\n",
       "    .dataframe thead th {\n",
       "        text-align: right;\n",
       "    }\n",
       "</style>\n",
       "<table border=\"1\" class=\"dataframe\">\n",
       "  <thead>\n",
       "    <tr style=\"text-align: right;\">\n",
       "      <th></th>\n",
       "      <th>STATION</th>\n",
       "      <th>AREA</th>\n",
       "      <th>exits_per_day</th>\n",
       "    </tr>\n",
       "  </thead>\n",
       "  <tbody>\n",
       "    <tr>\n",
       "      <th>63</th>\n",
       "      <td>161/YANKEE STAD</td>\n",
       "      <td>BRONX</td>\n",
       "      <td>13612.85</td>\n",
       "    </tr>\n",
       "    <tr>\n",
       "      <th>75</th>\n",
       "      <td>PARKCHESTER</td>\n",
       "      <td>BRONX</td>\n",
       "      <td>11973.87</td>\n",
       "    </tr>\n",
       "    <tr>\n",
       "      <th>94</th>\n",
       "      <td>167 ST</td>\n",
       "      <td>BRONX</td>\n",
       "      <td>9281.60</td>\n",
       "    </tr>\n",
       "    <tr>\n",
       "      <th>96</th>\n",
       "      <td>GUN HILL RD</td>\n",
       "      <td>BRONX</td>\n",
       "      <td>8851.09</td>\n",
       "    </tr>\n",
       "    <tr>\n",
       "      <th>103</th>\n",
       "      <td>KINGSBRIDGE RD</td>\n",
       "      <td>BRONX</td>\n",
       "      <td>8356.90</td>\n",
       "    </tr>\n",
       "  </tbody>\n",
       "</table>\n",
       "</div>"
      ],
      "text/plain": [
       "             STATION   AREA  exits_per_day\n",
       "63   161/YANKEE STAD  BRONX       13612.85\n",
       "75       PARKCHESTER  BRONX       11973.87\n",
       "94            167 ST  BRONX        9281.60\n",
       "96       GUN HILL RD  BRONX        8851.09\n",
       "103   KINGSBRIDGE RD  BRONX        8356.90"
      ]
     },
     "execution_count": 64,
     "metadata": {},
     "output_type": "execute_result"
    }
   ],
   "source": [
    "station_daily[bronx].head()"
   ]
  },
  {
   "cell_type": "code",
   "execution_count": 67,
   "metadata": {},
   "outputs": [
    {
     "data": {
      "image/png": "[encoded data removed]",
      "text/plain": [
       "<Figure size 432x288 with 1 Axes>"
      ]
     },
     "metadata": {
      "needs_background": "light"
     },
     "output_type": "display_data"
    }
   ],
   "source": [
    "bronx_top5 = sns.barplot(data=station_daily[bronx].head(5), x='exits_per_day', y='STATION')\n",
    "bronx_top5.set(xlabel='Average Exits Per Day', ylabel='Station')\n",
    "bronx_top5.figure.savefig(\"bronx_top5.png\", bbox_inches='tight')"
   ]
  },
  {
   "cell_type": "code",
   "execution_count": 65,
   "metadata": {
    "scrolled": true
   },
   "outputs": [
    {
     "data": {
      "text/html": [
       "<div>\n",
       "<style scoped>\n",
       "    .dataframe tbody tr th:only-of-type {\n",
       "        vertical-align: middle;\n",
       "    }\n",
       "\n",
       "    .dataframe tbody tr th {\n",
       "        vertical-align: top;\n",
       "    }\n",
       "\n",
       "    .dataframe thead th {\n",
       "        text-align: right;\n",
       "    }\n",
       "</style>\n",
       "<table border=\"1\" class=\"dataframe\">\n",
       "  <thead>\n",
       "    <tr style=\"text-align: right;\">\n",
       "      <th></th>\n",
       "      <th>STATION</th>\n",
       "      <th>AREA</th>\n",
       "      <th>exits_per_day</th>\n",
       "    </tr>\n",
       "  </thead>\n",
       "  <tbody>\n",
       "    <tr>\n",
       "      <th>26</th>\n",
       "      <td>JKSN HT-ROOSVLT</td>\n",
       "      <td>QUEENS</td>\n",
       "      <td>27608.25</td>\n",
       "    </tr>\n",
       "    <tr>\n",
       "      <th>34</th>\n",
       "      <td>JAMAICA CENTER</td>\n",
       "      <td>QUEENS</td>\n",
       "      <td>20795.92</td>\n",
       "    </tr>\n",
       "    <tr>\n",
       "      <th>36</th>\n",
       "      <td>KEW GARDENS</td>\n",
       "      <td>QUEENS</td>\n",
       "      <td>20030.29</td>\n",
       "    </tr>\n",
       "    <tr>\n",
       "      <th>49</th>\n",
       "      <td>SUTPHIN-ARCHER</td>\n",
       "      <td>QUEENS</td>\n",
       "      <td>15302.24</td>\n",
       "    </tr>\n",
       "    <tr>\n",
       "      <th>59</th>\n",
       "      <td>61 ST WOODSIDE</td>\n",
       "      <td>QUEENS</td>\n",
       "      <td>13970.08</td>\n",
       "    </tr>\n",
       "  </tbody>\n",
       "</table>\n",
       "</div>"
      ],
      "text/plain": [
       "            STATION    AREA  exits_per_day\n",
       "26  JKSN HT-ROOSVLT  QUEENS       27608.25\n",
       "34   JAMAICA CENTER  QUEENS       20795.92\n",
       "36      KEW GARDENS  QUEENS       20030.29\n",
       "49   SUTPHIN-ARCHER  QUEENS       15302.24\n",
       "59   61 ST WOODSIDE  QUEENS       13970.08"
      ]
     },
     "execution_count": 65,
     "metadata": {},
     "output_type": "execute_result"
    }
   ],
   "source": [
    "station_daily[queens].head()"
   ]
  },
  {
   "cell_type": "code",
   "execution_count": 68,
   "metadata": {},
   "outputs": [
    {
     "data": {
      "image/png": "[encoded data removed]",
      "text/plain": [
       "<Figure size 432x288 with 1 Axes>"
      ]
     },
     "metadata": {
      "needs_background": "light"
     },
     "output_type": "display_data"
    }
   ],
   "source": [
    "queens_top5 = sns.barplot(data=station_daily[bronx].head(5), x='exits_per_day', y='STATION')\n",
    "queens_top5.set(xlabel='Average Exits Per Day', ylabel='Station')\n",
    "queens_top5.figure.savefig(\"queens_top5.png\", bbox_inches='tight')"
   ]
  }
 ],
 "metadata": {
  "kernelspec": {
   "display_name": "Python 3",
   "language": "python",
   "name": "python3"
  },
  "language_info": {
   "codemirror_mode": {
    "name": "ipython",
    "version": 3
   },
   "file_extension": ".py",
   "mimetype": "text/x-python",
   "name": "python",
   "nbconvert_exporter": "python",
   "pygments_lexer": "ipython3",
   "version": "3.8.5"
  }
 },
 "nbformat": 4,
 "nbformat_minor": 4
}
