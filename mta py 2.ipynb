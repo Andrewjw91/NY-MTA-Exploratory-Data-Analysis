{
 "cells": [
  {
   "cell_type": "markdown",
   "metadata": {},
   "source": [
    "import urllib.request\n",
    "\n",
    "url = \"http://web.mta.info/developers/data/nyct/turnstile/turnstile_{}.txt\"\n",
    "week_nums = [190504, 190511, 190518, 190525, 190601, 190608, 190615, 190622, 190629, 190706, 190713, 190720, 190727]\n",
    "\n",
    "for week_num in week_nums:\n",
    "    urllib.request.urlretrieve(f\"http://web.mta.info/developers/data/nyct/turnstile/turnstile_{week_num}.txt\",\n",
    "                               f\"data/turnstile_{week_num}.txt\")"
   ]
  },
  {
   "cell_type": "code",
   "execution_count": 4,
   "metadata": {},
   "outputs": [],
   "source": [
    "from sqlalchemy import create_engine\n",
    "import pandas as pd\n",
    "import numpy as np\n",
    "import matplotlib.pyplot as plt\n",
    "import seaborn as sns\n",
    "\n",
    "engine = create_engine(\"sqlite:///mta.db\")\n",
    "all_data = pd.read_sql('SELECT * FROM mta_data;', engine)"
   ]
  },
  {
   "cell_type": "code",
   "execution_count": 5,
   "metadata": {},
   "outputs": [],
   "source": [
    "%config InlineBackend.figure_format = 'png'\n",
    "%matplotlib inline "
   ]
  },
  {
   "cell_type": "code",
   "execution_count": 10,
   "metadata": {},
   "outputs": [],
   "source": [
    "df = all_data"
   ]
  },
  {
   "cell_type": "code",
   "execution_count": 11,
   "metadata": {
    "scrolled": true
   },
   "outputs": [
    {
     "ename": "KeyError",
     "evalue": "0",
     "output_type": "error",
     "traceback": [
      "\u001b[1;31m---------------------------------------------------------------------------\u001b[0m",
      "\u001b[1;31mKeyError\u001b[0m                                  Traceback (most recent call last)",
      "\u001b[1;32m~\\anaconda3\\lib\\site-packages\\pandas\\core\\indexes\\base.py\u001b[0m in \u001b[0;36mget_loc\u001b[1;34m(self, key, method, tolerance)\u001b[0m\n\u001b[0;32m   2894\u001b[0m             \u001b[1;32mtry\u001b[0m\u001b[1;33m:\u001b[0m\u001b[1;33m\u001b[0m\u001b[1;33m\u001b[0m\u001b[0m\n\u001b[1;32m-> 2895\u001b[1;33m                 \u001b[1;32mreturn\u001b[0m \u001b[0mself\u001b[0m\u001b[1;33m.\u001b[0m\u001b[0m_engine\u001b[0m\u001b[1;33m.\u001b[0m\u001b[0mget_loc\u001b[0m\u001b[1;33m(\u001b[0m\u001b[0mcasted_key\u001b[0m\u001b[1;33m)\u001b[0m\u001b[1;33m\u001b[0m\u001b[1;33m\u001b[0m\u001b[0m\n\u001b[0m\u001b[0;32m   2896\u001b[0m             \u001b[1;32mexcept\u001b[0m \u001b[0mKeyError\u001b[0m \u001b[1;32mas\u001b[0m \u001b[0merr\u001b[0m\u001b[1;33m:\u001b[0m\u001b[1;33m\u001b[0m\u001b[1;33m\u001b[0m\u001b[0m\n",
      "\u001b[1;32mpandas\\_libs\\index.pyx\u001b[0m in \u001b[0;36mpandas._libs.index.IndexEngine.get_loc\u001b[1;34m()\u001b[0m\n",
      "\u001b[1;32mpandas\\_libs\\index.pyx\u001b[0m in \u001b[0;36mpandas._libs.index.IndexEngine.get_loc\u001b[1;34m()\u001b[0m\n",
      "\u001b[1;31mKeyError\u001b[0m: 0",
      "\nThe above exception was the direct cause of the following exception:\n",
      "\u001b[1;31mKeyError\u001b[0m                                  Traceback (most recent call last)",
      "\u001b[1;32m<ipython-input-11-c67735cfef20>\u001b[0m in \u001b[0;36m<module>\u001b[1;34m\u001b[0m\n\u001b[0;32m      1\u001b[0m \u001b[1;31m# Need to change columns to row-index 0\u001b[0m\u001b[1;33m\u001b[0m\u001b[1;33m\u001b[0m\u001b[1;33m\u001b[0m\u001b[0m\n\u001b[1;32m----> 2\u001b[1;33m \u001b[0mdf\u001b[0m\u001b[1;33m.\u001b[0m\u001b[0mrename\u001b[0m\u001b[1;33m(\u001b[0m\u001b[0mcolumns\u001b[0m \u001b[1;33m=\u001b[0m \u001b[0mdf\u001b[0m\u001b[1;33m.\u001b[0m\u001b[0mloc\u001b[0m\u001b[1;33m[\u001b[0m\u001b[1;36m0\u001b[0m\u001b[1;33m]\u001b[0m\u001b[1;33m,\u001b[0m \u001b[0minplace\u001b[0m \u001b[1;33m=\u001b[0m\u001b[1;32mTrue\u001b[0m\u001b[1;33m)\u001b[0m\u001b[1;33m\u001b[0m\u001b[1;33m\u001b[0m\u001b[0m\n\u001b[0m\u001b[0;32m      3\u001b[0m \u001b[1;33m\u001b[0m\u001b[0m\n\u001b[0;32m      4\u001b[0m \u001b[1;31m# Remove row 0\u001b[0m\u001b[1;33m\u001b[0m\u001b[1;33m\u001b[0m\u001b[1;33m\u001b[0m\u001b[0m\n\u001b[0;32m      5\u001b[0m \u001b[0mdf\u001b[0m \u001b[1;33m=\u001b[0m \u001b[0mdf\u001b[0m\u001b[1;33m.\u001b[0m\u001b[0mdrop\u001b[0m\u001b[1;33m(\u001b[0m\u001b[1;33m[\u001b[0m\u001b[1;36m0\u001b[0m\u001b[1;33m]\u001b[0m\u001b[1;33m,\u001b[0m \u001b[0minplace\u001b[0m\u001b[1;33m=\u001b[0m\u001b[1;32mTrue\u001b[0m\u001b[1;33m)\u001b[0m\u001b[1;33m\u001b[0m\u001b[1;33m\u001b[0m\u001b[0m\n",
      "\u001b[1;32m~\\anaconda3\\lib\\site-packages\\pandas\\core\\indexing.py\u001b[0m in \u001b[0;36m__getitem__\u001b[1;34m(self, key)\u001b[0m\n\u001b[0;32m    877\u001b[0m \u001b[1;33m\u001b[0m\u001b[0m\n\u001b[0;32m    878\u001b[0m             \u001b[0mmaybe_callable\u001b[0m \u001b[1;33m=\u001b[0m \u001b[0mcom\u001b[0m\u001b[1;33m.\u001b[0m\u001b[0mapply_if_callable\u001b[0m\u001b[1;33m(\u001b[0m\u001b[0mkey\u001b[0m\u001b[1;33m,\u001b[0m \u001b[0mself\u001b[0m\u001b[1;33m.\u001b[0m\u001b[0mobj\u001b[0m\u001b[1;33m)\u001b[0m\u001b[1;33m\u001b[0m\u001b[1;33m\u001b[0m\u001b[0m\n\u001b[1;32m--> 879\u001b[1;33m             \u001b[1;32mreturn\u001b[0m \u001b[0mself\u001b[0m\u001b[1;33m.\u001b[0m\u001b[0m_getitem_axis\u001b[0m\u001b[1;33m(\u001b[0m\u001b[0mmaybe_callable\u001b[0m\u001b[1;33m,\u001b[0m \u001b[0maxis\u001b[0m\u001b[1;33m=\u001b[0m\u001b[0maxis\u001b[0m\u001b[1;33m)\u001b[0m\u001b[1;33m\u001b[0m\u001b[1;33m\u001b[0m\u001b[0m\n\u001b[0m\u001b[0;32m    880\u001b[0m \u001b[1;33m\u001b[0m\u001b[0m\n\u001b[0;32m    881\u001b[0m     \u001b[1;32mdef\u001b[0m \u001b[0m_is_scalar_access\u001b[0m\u001b[1;33m(\u001b[0m\u001b[0mself\u001b[0m\u001b[1;33m,\u001b[0m \u001b[0mkey\u001b[0m\u001b[1;33m:\u001b[0m \u001b[0mTuple\u001b[0m\u001b[1;33m)\u001b[0m\u001b[1;33m:\u001b[0m\u001b[1;33m\u001b[0m\u001b[1;33m\u001b[0m\u001b[0m\n",
      "\u001b[1;32m~\\anaconda3\\lib\\site-packages\\pandas\\core\\indexing.py\u001b[0m in \u001b[0;36m_getitem_axis\u001b[1;34m(self, key, axis)\u001b[0m\n\u001b[0;32m   1108\u001b[0m         \u001b[1;31m# fall thru to straight lookup\u001b[0m\u001b[1;33m\u001b[0m\u001b[1;33m\u001b[0m\u001b[1;33m\u001b[0m\u001b[0m\n\u001b[0;32m   1109\u001b[0m         \u001b[0mself\u001b[0m\u001b[1;33m.\u001b[0m\u001b[0m_validate_key\u001b[0m\u001b[1;33m(\u001b[0m\u001b[0mkey\u001b[0m\u001b[1;33m,\u001b[0m \u001b[0maxis\u001b[0m\u001b[1;33m)\u001b[0m\u001b[1;33m\u001b[0m\u001b[1;33m\u001b[0m\u001b[0m\n\u001b[1;32m-> 1110\u001b[1;33m         \u001b[1;32mreturn\u001b[0m \u001b[0mself\u001b[0m\u001b[1;33m.\u001b[0m\u001b[0m_get_label\u001b[0m\u001b[1;33m(\u001b[0m\u001b[0mkey\u001b[0m\u001b[1;33m,\u001b[0m \u001b[0maxis\u001b[0m\u001b[1;33m=\u001b[0m\u001b[0maxis\u001b[0m\u001b[1;33m)\u001b[0m\u001b[1;33m\u001b[0m\u001b[1;33m\u001b[0m\u001b[0m\n\u001b[0m\u001b[0;32m   1111\u001b[0m \u001b[1;33m\u001b[0m\u001b[0m\n\u001b[0;32m   1112\u001b[0m     \u001b[1;32mdef\u001b[0m \u001b[0m_get_slice_axis\u001b[0m\u001b[1;33m(\u001b[0m\u001b[0mself\u001b[0m\u001b[1;33m,\u001b[0m \u001b[0mslice_obj\u001b[0m\u001b[1;33m:\u001b[0m \u001b[0mslice\u001b[0m\u001b[1;33m,\u001b[0m \u001b[0maxis\u001b[0m\u001b[1;33m:\u001b[0m \u001b[0mint\u001b[0m\u001b[1;33m)\u001b[0m\u001b[1;33m:\u001b[0m\u001b[1;33m\u001b[0m\u001b[1;33m\u001b[0m\u001b[0m\n",
      "\u001b[1;32m~\\anaconda3\\lib\\site-packages\\pandas\\core\\indexing.py\u001b[0m in \u001b[0;36m_get_label\u001b[1;34m(self, label, axis)\u001b[0m\n\u001b[0;32m   1057\u001b[0m     \u001b[1;32mdef\u001b[0m \u001b[0m_get_label\u001b[0m\u001b[1;33m(\u001b[0m\u001b[0mself\u001b[0m\u001b[1;33m,\u001b[0m \u001b[0mlabel\u001b[0m\u001b[1;33m,\u001b[0m \u001b[0maxis\u001b[0m\u001b[1;33m:\u001b[0m \u001b[0mint\u001b[0m\u001b[1;33m)\u001b[0m\u001b[1;33m:\u001b[0m\u001b[1;33m\u001b[0m\u001b[1;33m\u001b[0m\u001b[0m\n\u001b[0;32m   1058\u001b[0m         \u001b[1;31m# GH#5667 this will fail if the label is not present in the axis.\u001b[0m\u001b[1;33m\u001b[0m\u001b[1;33m\u001b[0m\u001b[1;33m\u001b[0m\u001b[0m\n\u001b[1;32m-> 1059\u001b[1;33m         \u001b[1;32mreturn\u001b[0m \u001b[0mself\u001b[0m\u001b[1;33m.\u001b[0m\u001b[0mobj\u001b[0m\u001b[1;33m.\u001b[0m\u001b[0mxs\u001b[0m\u001b[1;33m(\u001b[0m\u001b[0mlabel\u001b[0m\u001b[1;33m,\u001b[0m \u001b[0maxis\u001b[0m\u001b[1;33m=\u001b[0m\u001b[0maxis\u001b[0m\u001b[1;33m)\u001b[0m\u001b[1;33m\u001b[0m\u001b[1;33m\u001b[0m\u001b[0m\n\u001b[0m\u001b[0;32m   1060\u001b[0m \u001b[1;33m\u001b[0m\u001b[0m\n\u001b[0;32m   1061\u001b[0m     \u001b[1;32mdef\u001b[0m \u001b[0m_handle_lowerdim_multi_index_axis0\u001b[0m\u001b[1;33m(\u001b[0m\u001b[0mself\u001b[0m\u001b[1;33m,\u001b[0m \u001b[0mtup\u001b[0m\u001b[1;33m:\u001b[0m \u001b[0mTuple\u001b[0m\u001b[1;33m)\u001b[0m\u001b[1;33m:\u001b[0m\u001b[1;33m\u001b[0m\u001b[1;33m\u001b[0m\u001b[0m\n",
      "\u001b[1;32m~\\anaconda3\\lib\\site-packages\\pandas\\core\\generic.py\u001b[0m in \u001b[0;36mxs\u001b[1;34m(self, key, axis, level, drop_level)\u001b[0m\n\u001b[0;32m   3489\u001b[0m             \u001b[0mloc\u001b[0m\u001b[1;33m,\u001b[0m \u001b[0mnew_index\u001b[0m \u001b[1;33m=\u001b[0m \u001b[0mself\u001b[0m\u001b[1;33m.\u001b[0m\u001b[0mindex\u001b[0m\u001b[1;33m.\u001b[0m\u001b[0mget_loc_level\u001b[0m\u001b[1;33m(\u001b[0m\u001b[0mkey\u001b[0m\u001b[1;33m,\u001b[0m \u001b[0mdrop_level\u001b[0m\u001b[1;33m=\u001b[0m\u001b[0mdrop_level\u001b[0m\u001b[1;33m)\u001b[0m\u001b[1;33m\u001b[0m\u001b[1;33m\u001b[0m\u001b[0m\n\u001b[0;32m   3490\u001b[0m         \u001b[1;32melse\u001b[0m\u001b[1;33m:\u001b[0m\u001b[1;33m\u001b[0m\u001b[1;33m\u001b[0m\u001b[0m\n\u001b[1;32m-> 3491\u001b[1;33m             \u001b[0mloc\u001b[0m \u001b[1;33m=\u001b[0m \u001b[0mself\u001b[0m\u001b[1;33m.\u001b[0m\u001b[0mindex\u001b[0m\u001b[1;33m.\u001b[0m\u001b[0mget_loc\u001b[0m\u001b[1;33m(\u001b[0m\u001b[0mkey\u001b[0m\u001b[1;33m)\u001b[0m\u001b[1;33m\u001b[0m\u001b[1;33m\u001b[0m\u001b[0m\n\u001b[0m\u001b[0;32m   3492\u001b[0m \u001b[1;33m\u001b[0m\u001b[0m\n\u001b[0;32m   3493\u001b[0m             \u001b[1;32mif\u001b[0m \u001b[0misinstance\u001b[0m\u001b[1;33m(\u001b[0m\u001b[0mloc\u001b[0m\u001b[1;33m,\u001b[0m \u001b[0mnp\u001b[0m\u001b[1;33m.\u001b[0m\u001b[0mndarray\u001b[0m\u001b[1;33m)\u001b[0m\u001b[1;33m:\u001b[0m\u001b[1;33m\u001b[0m\u001b[1;33m\u001b[0m\u001b[0m\n",
      "\u001b[1;32m~\\anaconda3\\lib\\site-packages\\pandas\\core\\indexes\\base.py\u001b[0m in \u001b[0;36mget_loc\u001b[1;34m(self, key, method, tolerance)\u001b[0m\n\u001b[0;32m   2895\u001b[0m                 \u001b[1;32mreturn\u001b[0m \u001b[0mself\u001b[0m\u001b[1;33m.\u001b[0m\u001b[0m_engine\u001b[0m\u001b[1;33m.\u001b[0m\u001b[0mget_loc\u001b[0m\u001b[1;33m(\u001b[0m\u001b[0mcasted_key\u001b[0m\u001b[1;33m)\u001b[0m\u001b[1;33m\u001b[0m\u001b[1;33m\u001b[0m\u001b[0m\n\u001b[0;32m   2896\u001b[0m             \u001b[1;32mexcept\u001b[0m \u001b[0mKeyError\u001b[0m \u001b[1;32mas\u001b[0m \u001b[0merr\u001b[0m\u001b[1;33m:\u001b[0m\u001b[1;33m\u001b[0m\u001b[1;33m\u001b[0m\u001b[0m\n\u001b[1;32m-> 2897\u001b[1;33m                 \u001b[1;32mraise\u001b[0m \u001b[0mKeyError\u001b[0m\u001b[1;33m(\u001b[0m\u001b[0mkey\u001b[0m\u001b[1;33m)\u001b[0m \u001b[1;32mfrom\u001b[0m \u001b[0merr\u001b[0m\u001b[1;33m\u001b[0m\u001b[1;33m\u001b[0m\u001b[0m\n\u001b[0m\u001b[0;32m   2898\u001b[0m \u001b[1;33m\u001b[0m\u001b[0m\n\u001b[0;32m   2899\u001b[0m         \u001b[1;32mif\u001b[0m \u001b[0mtolerance\u001b[0m \u001b[1;32mis\u001b[0m \u001b[1;32mnot\u001b[0m \u001b[1;32mNone\u001b[0m\u001b[1;33m:\u001b[0m\u001b[1;33m\u001b[0m\u001b[1;33m\u001b[0m\u001b[0m\n",
      "\u001b[1;31mKeyError\u001b[0m: 0"
     ]
    }
   ],
   "source": [
    "# Need to change columns to row-index 0\n",
    "#df.rename(columns = df.loc[0], inplace =True)\n",
    "\n",
    "# Remove row 0\n",
    "#df = df.drop([0], inplace=True)\n",
    "\n",
    "#Drop dups\n",
    "#df.drop_duplicates(inplace=True)\n"
   ]
  },
  {
   "cell_type": "code",
   "execution_count": 13,
   "metadata": {},
   "outputs": [],
   "source": [
    "# Need to convert EXITS column field11 into numeric type\n",
    "df['EXITS'] = df['EXITS'].astype(np.float64)"
   ]
  },
  {
   "cell_type": "code",
   "execution_count": 14,
   "metadata": {},
   "outputs": [
    {
     "name": "stdout",
     "output_type": "stream",
     "text": [
      "<class 'pandas.core.frame.DataFrame'>\n",
      "Int64Index: 2684040 entries, 1 to 2684040\n",
      "Data columns (total 11 columns):\n",
      " #   Column    Dtype  \n",
      "---  ------    -----  \n",
      " 0   C/A       object \n",
      " 1   UNIT      object \n",
      " 2   SCP       object \n",
      " 3   STATION   object \n",
      " 4   LINENAME  object \n",
      " 5   DIVISION  object \n",
      " 6   DATE      object \n",
      " 7   TIME      object \n",
      " 8   DESC      object \n",
      " 9   ENTRIES   object \n",
      " 10  EXITS     float64\n",
      "dtypes: float64(1), object(10)\n",
      "memory usage: 245.7+ MB\n"
     ]
    }
   ],
   "source": [
    "df.info()"
   ]
  },
  {
   "cell_type": "code",
   "execution_count": 15,
   "metadata": {
    "scrolled": false
   },
   "outputs": [
    {
     "data": {
      "text/html": [
       "<div>\n",
       "<style scoped>\n",
       "    .dataframe tbody tr th:only-of-type {\n",
       "        vertical-align: middle;\n",
       "    }\n",
       "\n",
       "    .dataframe tbody tr th {\n",
       "        vertical-align: top;\n",
       "    }\n",
       "\n",
       "    .dataframe thead th {\n",
       "        text-align: right;\n",
       "    }\n",
       "</style>\n",
       "<table border=\"1\" class=\"dataframe\">\n",
       "  <thead>\n",
       "    <tr style=\"text-align: right;\">\n",
       "      <th></th>\n",
       "      <th>C/A</th>\n",
       "      <th>UNIT</th>\n",
       "      <th>SCP</th>\n",
       "      <th>STATION</th>\n",
       "      <th>LINENAME</th>\n",
       "      <th>DIVISION</th>\n",
       "      <th>DATE</th>\n",
       "      <th>TIME</th>\n",
       "      <th>DESC</th>\n",
       "      <th>ENTRIES</th>\n",
       "      <th>EXITS</th>\n",
       "    </tr>\n",
       "  </thead>\n",
       "  <tbody>\n",
       "    <tr>\n",
       "      <th>1</th>\n",
       "      <td>A002</td>\n",
       "      <td>R051</td>\n",
       "      <td>02-00-00</td>\n",
       "      <td>59 ST-BMT</td>\n",
       "      <td>NQR456W</td>\n",
       "      <td>BMT</td>\n",
       "      <td>04/27/2019</td>\n",
       "      <td>00:00:00</td>\n",
       "      <td>REGULAR</td>\n",
       "      <td>0007035249</td>\n",
       "      <td>2384833.0</td>\n",
       "    </tr>\n",
       "    <tr>\n",
       "      <th>2</th>\n",
       "      <td>A002</td>\n",
       "      <td>R051</td>\n",
       "      <td>02-00-00</td>\n",
       "      <td>59 ST-BMT</td>\n",
       "      <td>NQR456W</td>\n",
       "      <td>BMT</td>\n",
       "      <td>04/27/2019</td>\n",
       "      <td>04:00:00</td>\n",
       "      <td>REGULAR</td>\n",
       "      <td>0007035269</td>\n",
       "      <td>2384840.0</td>\n",
       "    </tr>\n",
       "    <tr>\n",
       "      <th>3</th>\n",
       "      <td>A002</td>\n",
       "      <td>R051</td>\n",
       "      <td>02-00-00</td>\n",
       "      <td>59 ST-BMT</td>\n",
       "      <td>NQR456W</td>\n",
       "      <td>BMT</td>\n",
       "      <td>04/27/2019</td>\n",
       "      <td>08:00:00</td>\n",
       "      <td>REGULAR</td>\n",
       "      <td>0007035292</td>\n",
       "      <td>2384875.0</td>\n",
       "    </tr>\n",
       "    <tr>\n",
       "      <th>4</th>\n",
       "      <td>A002</td>\n",
       "      <td>R051</td>\n",
       "      <td>02-00-00</td>\n",
       "      <td>59 ST-BMT</td>\n",
       "      <td>NQR456W</td>\n",
       "      <td>BMT</td>\n",
       "      <td>04/27/2019</td>\n",
       "      <td>12:00:00</td>\n",
       "      <td>REGULAR</td>\n",
       "      <td>0007035392</td>\n",
       "      <td>2384951.0</td>\n",
       "    </tr>\n",
       "    <tr>\n",
       "      <th>5</th>\n",
       "      <td>A002</td>\n",
       "      <td>R051</td>\n",
       "      <td>02-00-00</td>\n",
       "      <td>59 ST-BMT</td>\n",
       "      <td>NQR456W</td>\n",
       "      <td>BMT</td>\n",
       "      <td>04/27/2019</td>\n",
       "      <td>16:00:00</td>\n",
       "      <td>REGULAR</td>\n",
       "      <td>0007035651</td>\n",
       "      <td>2385020.0</td>\n",
       "    </tr>\n",
       "  </tbody>\n",
       "</table>\n",
       "</div>"
      ],
      "text/plain": [
       "    C/A  UNIT       SCP    STATION LINENAME DIVISION        DATE      TIME  \\\n",
       "1  A002  R051  02-00-00  59 ST-BMT  NQR456W      BMT  04/27/2019  00:00:00   \n",
       "2  A002  R051  02-00-00  59 ST-BMT  NQR456W      BMT  04/27/2019  04:00:00   \n",
       "3  A002  R051  02-00-00  59 ST-BMT  NQR456W      BMT  04/27/2019  08:00:00   \n",
       "4  A002  R051  02-00-00  59 ST-BMT  NQR456W      BMT  04/27/2019  12:00:00   \n",
       "5  A002  R051  02-00-00  59 ST-BMT  NQR456W      BMT  04/27/2019  16:00:00   \n",
       "\n",
       "      DESC     ENTRIES      EXITS  \n",
       "1  REGULAR  0007035249  2384833.0  \n",
       "2  REGULAR  0007035269  2384840.0  \n",
       "3  REGULAR  0007035292  2384875.0  \n",
       "4  REGULAR  0007035392  2384951.0  \n",
       "5  REGULAR  0007035651  2385020.0  "
      ]
     },
     "execution_count": 15,
     "metadata": {},
     "output_type": "execute_result"
    }
   ],
   "source": [
    "df.head()"
   ]
  },
  {
   "cell_type": "code",
   "execution_count": 16,
   "metadata": {
    "scrolled": false
   },
   "outputs": [],
   "source": [
    "# Need to find the max(EXITS) for each (SCP) by DATE\n",
    "#This excludes the EXITS count from TIME 20:00-23:59 each day. The data from this date frame is not as relevant to my company of interest.\n",
    "#The EXITS count during this time is likely minimal. Additionally, scooters are reclaimed at night to charge to be redeployed the next morning.\n",
    "#I used .shift method with PREV_EXITS initially. However, for C/A==S101A, SCP==01-00-03 between 05/01/2019 and 05/02/2019 there was an unexplained jump from 432 to 1078346838.\n",
    "max_exit = df.groupby(['C/A','SCP','STATION','DATE'])[['EXITS']].max()"
   ]
  },
  {
   "cell_type": "code",
   "execution_count": 17,
   "metadata": {},
   "outputs": [],
   "source": [
    "# Need to find the min(EXITS) for each (SCP) by DATE\n",
    "min_exit = df.groupby(['C/A','SCP','STATION','DATE'])[['EXITS']].min()"
   ]
  },
  {
   "cell_type": "code",
   "execution_count": 18,
   "metadata": {
    "scrolled": false
   },
   "outputs": [
    {
     "data": {
      "text/html": [
       "<div>\n",
       "<style scoped>\n",
       "    .dataframe tbody tr th:only-of-type {\n",
       "        vertical-align: middle;\n",
       "    }\n",
       "\n",
       "    .dataframe tbody tr th {\n",
       "        vertical-align: top;\n",
       "    }\n",
       "\n",
       "    .dataframe thead th {\n",
       "        text-align: right;\n",
       "    }\n",
       "</style>\n",
       "<table border=\"1\" class=\"dataframe\">\n",
       "  <thead>\n",
       "    <tr style=\"text-align: right;\">\n",
       "      <th></th>\n",
       "      <th></th>\n",
       "      <th></th>\n",
       "      <th></th>\n",
       "      <th>EXITS_x</th>\n",
       "      <th>EXITS_y</th>\n",
       "    </tr>\n",
       "    <tr>\n",
       "      <th>C/A</th>\n",
       "      <th>SCP</th>\n",
       "      <th>STATION</th>\n",
       "      <th>DATE</th>\n",
       "      <th></th>\n",
       "      <th></th>\n",
       "    </tr>\n",
       "  </thead>\n",
       "  <tbody>\n",
       "    <tr>\n",
       "      <th rowspan=\"5\" valign=\"top\">A002</th>\n",
       "      <th rowspan=\"5\" valign=\"top\">02-00-00</th>\n",
       "      <th rowspan=\"5\" valign=\"top\">59 ST-BMT</th>\n",
       "      <th>04/27/2019</th>\n",
       "      <td>2385070.0</td>\n",
       "      <td>2384833.0</td>\n",
       "    </tr>\n",
       "    <tr>\n",
       "      <th>04/28/2019</th>\n",
       "      <td>2385240.0</td>\n",
       "      <td>2385087.0</td>\n",
       "    </tr>\n",
       "    <tr>\n",
       "      <th>04/29/2019</th>\n",
       "      <td>2385732.0</td>\n",
       "      <td>2385256.0</td>\n",
       "    </tr>\n",
       "    <tr>\n",
       "      <th>04/30/2019</th>\n",
       "      <td>2386197.0</td>\n",
       "      <td>2385765.0</td>\n",
       "    </tr>\n",
       "    <tr>\n",
       "      <th>05/01/2019</th>\n",
       "      <td>2386673.0</td>\n",
       "      <td>2386229.0</td>\n",
       "    </tr>\n",
       "  </tbody>\n",
       "</table>\n",
       "</div>"
      ],
      "text/plain": [
       "                                      EXITS_x    EXITS_y\n",
       "C/A  SCP      STATION   DATE                            \n",
       "A002 02-00-00 59 ST-BMT 04/27/2019  2385070.0  2384833.0\n",
       "                        04/28/2019  2385240.0  2385087.0\n",
       "                        04/29/2019  2385732.0  2385256.0\n",
       "                        04/30/2019  2386197.0  2385765.0\n",
       "                        05/01/2019  2386673.0  2386229.0"
      ]
     },
     "execution_count": 18,
     "metadata": {},
     "output_type": "execute_result"
    }
   ],
   "source": [
    "#Merging total scp exits data into one df, on matching SCP column\n",
    "total_scp_exit = pd.merge(max_exit, min_exit, on=['C/A','SCP','STATION','DATE'])\n",
    "total_scp_exit.head()"
   ]
  },
  {
   "cell_type": "code",
   "execution_count": 19,
   "metadata": {
    "scrolled": true
   },
   "outputs": [
    {
     "data": {
      "text/html": [
       "<div>\n",
       "<style scoped>\n",
       "    .dataframe tbody tr th:only-of-type {\n",
       "        vertical-align: middle;\n",
       "    }\n",
       "\n",
       "    .dataframe tbody tr th {\n",
       "        vertical-align: top;\n",
       "    }\n",
       "\n",
       "    .dataframe thead th {\n",
       "        text-align: right;\n",
       "    }\n",
       "</style>\n",
       "<table border=\"1\" class=\"dataframe\">\n",
       "  <thead>\n",
       "    <tr style=\"text-align: right;\">\n",
       "      <th></th>\n",
       "      <th></th>\n",
       "      <th></th>\n",
       "      <th></th>\n",
       "      <th>EXITS_x</th>\n",
       "      <th>EXITS_y</th>\n",
       "      <th>exits_per_day</th>\n",
       "    </tr>\n",
       "    <tr>\n",
       "      <th>C/A</th>\n",
       "      <th>SCP</th>\n",
       "      <th>STATION</th>\n",
       "      <th>DATE</th>\n",
       "      <th></th>\n",
       "      <th></th>\n",
       "      <th></th>\n",
       "    </tr>\n",
       "  </thead>\n",
       "  <tbody>\n",
       "    <tr>\n",
       "      <th rowspan=\"5\" valign=\"top\">A002</th>\n",
       "      <th rowspan=\"5\" valign=\"top\">02-00-00</th>\n",
       "      <th rowspan=\"5\" valign=\"top\">59 ST-BMT</th>\n",
       "      <th>04/27/2019</th>\n",
       "      <td>2385070.0</td>\n",
       "      <td>2384833.0</td>\n",
       "      <td>237.0</td>\n",
       "    </tr>\n",
       "    <tr>\n",
       "      <th>04/28/2019</th>\n",
       "      <td>2385240.0</td>\n",
       "      <td>2385087.0</td>\n",
       "      <td>153.0</td>\n",
       "    </tr>\n",
       "    <tr>\n",
       "      <th>04/29/2019</th>\n",
       "      <td>2385732.0</td>\n",
       "      <td>2385256.0</td>\n",
       "      <td>476.0</td>\n",
       "    </tr>\n",
       "    <tr>\n",
       "      <th>04/30/2019</th>\n",
       "      <td>2386197.0</td>\n",
       "      <td>2385765.0</td>\n",
       "      <td>432.0</td>\n",
       "    </tr>\n",
       "    <tr>\n",
       "      <th>05/01/2019</th>\n",
       "      <td>2386673.0</td>\n",
       "      <td>2386229.0</td>\n",
       "      <td>444.0</td>\n",
       "    </tr>\n",
       "  </tbody>\n",
       "</table>\n",
       "</div>"
      ],
      "text/plain": [
       "                                      EXITS_x    EXITS_y  exits_per_day\n",
       "C/A  SCP      STATION   DATE                                           \n",
       "A002 02-00-00 59 ST-BMT 04/27/2019  2385070.0  2384833.0          237.0\n",
       "                        04/28/2019  2385240.0  2385087.0          153.0\n",
       "                        04/29/2019  2385732.0  2385256.0          476.0\n",
       "                        04/30/2019  2386197.0  2385765.0          432.0\n",
       "                        05/01/2019  2386673.0  2386229.0          444.0"
      ]
     },
     "execution_count": 19,
     "metadata": {},
     "output_type": "execute_result"
    }
   ],
   "source": [
    "# total_scp_exits = max-min for each turnstile SCP per DATE\n",
    "total_scp_exit['exits_per_day'] = total_scp_exit['EXITS_x']-total_scp_exit['EXITS_y']\n",
    "total_scp_exit.head()"
   ]
  },
  {
   "cell_type": "code",
   "execution_count": 20,
   "metadata": {},
   "outputs": [
    {
     "data": {
      "text/html": [
       "<div>\n",
       "<style scoped>\n",
       "    .dataframe tbody tr th:only-of-type {\n",
       "        vertical-align: middle;\n",
       "    }\n",
       "\n",
       "    .dataframe tbody tr th {\n",
       "        vertical-align: top;\n",
       "    }\n",
       "\n",
       "    .dataframe thead th {\n",
       "        text-align: right;\n",
       "    }\n",
       "</style>\n",
       "<table border=\"1\" class=\"dataframe\">\n",
       "  <thead>\n",
       "    <tr style=\"text-align: right;\">\n",
       "      <th></th>\n",
       "      <th></th>\n",
       "      <th></th>\n",
       "      <th></th>\n",
       "      <th>EXITS_x</th>\n",
       "      <th>EXITS_y</th>\n",
       "      <th>exits_per_day</th>\n",
       "    </tr>\n",
       "    <tr>\n",
       "      <th>C/A</th>\n",
       "      <th>SCP</th>\n",
       "      <th>STATION</th>\n",
       "      <th>DATE</th>\n",
       "      <th></th>\n",
       "      <th></th>\n",
       "      <th></th>\n",
       "    </tr>\n",
       "  </thead>\n",
       "  <tbody>\n",
       "    <tr>\n",
       "      <th>C008</th>\n",
       "      <th>00-00-00</th>\n",
       "      <th>DEKALB AV</th>\n",
       "      <th>07/26/2019</th>\n",
       "      <td>1.850345e+09</td>\n",
       "      <td>8702864.0</td>\n",
       "      <td>1.841642e+09</td>\n",
       "    </tr>\n",
       "    <tr>\n",
       "      <th>N207</th>\n",
       "      <th>00-00-00</th>\n",
       "      <th>167 ST</th>\n",
       "      <th>06/14/2019</th>\n",
       "      <td>1.828766e+09</td>\n",
       "      <td>7175686.0</td>\n",
       "      <td>1.821591e+09</td>\n",
       "    </tr>\n",
       "    <tr>\n",
       "      <th>R401</th>\n",
       "      <th>00-00-00</th>\n",
       "      <th>3 AV 138 ST</th>\n",
       "      <th>07/14/2019</th>\n",
       "      <td>1.426011e+09</td>\n",
       "      <td>11255249.0</td>\n",
       "      <td>1.414756e+09</td>\n",
       "    </tr>\n",
       "    <tr>\n",
       "      <th>R258</th>\n",
       "      <th>00-06-00</th>\n",
       "      <th>125 ST</th>\n",
       "      <th>07/04/2019</th>\n",
       "      <td>1.409339e+09</td>\n",
       "      <td>5560810.0</td>\n",
       "      <td>1.403778e+09</td>\n",
       "    </tr>\n",
       "    <tr>\n",
       "      <th>R311</th>\n",
       "      <th>00-00-00</th>\n",
       "      <th>3 AV-149 ST</th>\n",
       "      <th>06/19/2019</th>\n",
       "      <td>1.476891e+09</td>\n",
       "      <td>123244243.0</td>\n",
       "      <td>1.353647e+09</td>\n",
       "    </tr>\n",
       "    <tr>\n",
       "      <th>...</th>\n",
       "      <th>...</th>\n",
       "      <th>...</th>\n",
       "      <th>...</th>\n",
       "      <td>...</td>\n",
       "      <td>...</td>\n",
       "      <td>...</td>\n",
       "    </tr>\n",
       "    <tr>\n",
       "      <th rowspan=\"4\" valign=\"top\">H032</th>\n",
       "      <th rowspan=\"4\" valign=\"top\">00-05-00</th>\n",
       "      <th rowspan=\"4\" valign=\"top\">WILSON AV</th>\n",
       "      <th>05/25/2019</th>\n",
       "      <td>0.000000e+00</td>\n",
       "      <td>0.0</td>\n",
       "      <td>0.000000e+00</td>\n",
       "    </tr>\n",
       "    <tr>\n",
       "      <th>05/24/2019</th>\n",
       "      <td>0.000000e+00</td>\n",
       "      <td>0.0</td>\n",
       "      <td>0.000000e+00</td>\n",
       "    </tr>\n",
       "    <tr>\n",
       "      <th>05/23/2019</th>\n",
       "      <td>0.000000e+00</td>\n",
       "      <td>0.0</td>\n",
       "      <td>0.000000e+00</td>\n",
       "    </tr>\n",
       "    <tr>\n",
       "      <th>05/22/2019</th>\n",
       "      <td>0.000000e+00</td>\n",
       "      <td>0.0</td>\n",
       "      <td>0.000000e+00</td>\n",
       "    </tr>\n",
       "    <tr>\n",
       "      <th>TRAM2</th>\n",
       "      <th>00-05-01</th>\n",
       "      <th>RIT-ROOSEVELT</th>\n",
       "      <th>07/26/2019</th>\n",
       "      <td>3.830000e+02</td>\n",
       "      <td>383.0</td>\n",
       "      <td>0.000000e+00</td>\n",
       "    </tr>\n",
       "  </tbody>\n",
       "</table>\n",
       "<p>441890 rows × 3 columns</p>\n",
       "</div>"
      ],
      "text/plain": [
       "                                              EXITS_x      EXITS_y  \\\n",
       "C/A   SCP      STATION       DATE                                    \n",
       "C008  00-00-00 DEKALB AV     07/26/2019  1.850345e+09    8702864.0   \n",
       "N207  00-00-00 167 ST        06/14/2019  1.828766e+09    7175686.0   \n",
       "R401  00-00-00 3 AV 138 ST   07/14/2019  1.426011e+09   11255249.0   \n",
       "R258  00-06-00 125 ST        07/04/2019  1.409339e+09    5560810.0   \n",
       "R311  00-00-00 3 AV-149 ST   06/19/2019  1.476891e+09  123244243.0   \n",
       "...                                               ...          ...   \n",
       "H032  00-05-00 WILSON AV     05/25/2019  0.000000e+00          0.0   \n",
       "                             05/24/2019  0.000000e+00          0.0   \n",
       "                             05/23/2019  0.000000e+00          0.0   \n",
       "                             05/22/2019  0.000000e+00          0.0   \n",
       "TRAM2 00-05-01 RIT-ROOSEVELT 07/26/2019  3.830000e+02        383.0   \n",
       "\n",
       "                                         exits_per_day  \n",
       "C/A   SCP      STATION       DATE                       \n",
       "C008  00-00-00 DEKALB AV     07/26/2019   1.841642e+09  \n",
       "N207  00-00-00 167 ST        06/14/2019   1.821591e+09  \n",
       "R401  00-00-00 3 AV 138 ST   07/14/2019   1.414756e+09  \n",
       "R258  00-06-00 125 ST        07/04/2019   1.403778e+09  \n",
       "R311  00-00-00 3 AV-149 ST   06/19/2019   1.353647e+09  \n",
       "...                                                ...  \n",
       "H032  00-05-00 WILSON AV     05/25/2019   0.000000e+00  \n",
       "                             05/24/2019   0.000000e+00  \n",
       "                             05/23/2019   0.000000e+00  \n",
       "                             05/22/2019   0.000000e+00  \n",
       "TRAM2 00-05-01 RIT-ROOSEVELT 07/26/2019   0.000000e+00  \n",
       "\n",
       "[441890 rows x 3 columns]"
      ]
     },
     "execution_count": 20,
     "metadata": {},
     "output_type": "execute_result"
    }
   ],
   "source": [
    "#There are some large inexplicable jumps in the EXITS count\n",
    "total_scp_exit.sort_values(['exits_per_day'], ascending=False)"
   ]
  },
  {
   "cell_type": "code",
   "execution_count": 21,
   "metadata": {
    "scrolled": true
   },
   "outputs": [
    {
     "data": {
      "text/plain": [
       "<seaborn.axisgrid.FacetGrid at 0x2a8eeba3e20>"
      ]
     },
     "execution_count": 21,
     "metadata": {},
     "output_type": "execute_result"
    },
    {
     "data": {
      "image/png": "[encoded data removed]",
      "text/plain": [
       "<Figure size 360x360 with 1 Axes>"
      ]
     },
     "metadata": {
      "needs_background": "light"
     },
     "output_type": "display_data"
    }
   ],
   "source": [
    "sns.displot(total_scp_exit[(total_scp_exit.exits_per_day <20000)].exits_per_day)\n",
    "#This shows distribution of exits_per_day values"
   ]
  },
  {
   "cell_type": "code",
   "execution_count": 22,
   "metadata": {},
   "outputs": [],
   "source": [
    "#Remove exits_per_day values > 20000\n",
    "total_scp_exit2 = total_scp_exit[(total_scp_exit.exits_per_day <20000)]"
   ]
  },
  {
   "cell_type": "code",
   "execution_count": 23,
   "metadata": {
    "scrolled": true
   },
   "outputs": [
    {
     "data": {
      "text/html": [
       "<div>\n",
       "<style scoped>\n",
       "    .dataframe tbody tr th:only-of-type {\n",
       "        vertical-align: middle;\n",
       "    }\n",
       "\n",
       "    .dataframe tbody tr th {\n",
       "        vertical-align: top;\n",
       "    }\n",
       "\n",
       "    .dataframe thead th {\n",
       "        text-align: right;\n",
       "    }\n",
       "</style>\n",
       "<table border=\"1\" class=\"dataframe\">\n",
       "  <thead>\n",
       "    <tr style=\"text-align: right;\">\n",
       "      <th></th>\n",
       "      <th></th>\n",
       "      <th></th>\n",
       "      <th>exits_per_day</th>\n",
       "    </tr>\n",
       "    <tr>\n",
       "      <th>C/A</th>\n",
       "      <th>STATION</th>\n",
       "      <th>SCP</th>\n",
       "      <th></th>\n",
       "    </tr>\n",
       "  </thead>\n",
       "  <tbody>\n",
       "    <tr>\n",
       "      <th rowspan=\"5\" valign=\"top\">A002</th>\n",
       "      <th rowspan=\"5\" valign=\"top\">59 ST-BMT</th>\n",
       "      <th>02-00-00</th>\n",
       "      <td>346.791209</td>\n",
       "    </tr>\n",
       "    <tr>\n",
       "      <th>02-00-01</th>\n",
       "      <td>203.901099</td>\n",
       "    </tr>\n",
       "    <tr>\n",
       "      <th>02-03-00</th>\n",
       "      <td>1485.406593</td>\n",
       "    </tr>\n",
       "    <tr>\n",
       "      <th>02-03-01</th>\n",
       "      <td>1522.923077</td>\n",
       "    </tr>\n",
       "    <tr>\n",
       "      <th>02-03-02</th>\n",
       "      <td>1157.890110</td>\n",
       "    </tr>\n",
       "  </tbody>\n",
       "</table>\n",
       "</div>"
      ],
      "text/plain": [
       "                         exits_per_day\n",
       "C/A  STATION   SCP                    \n",
       "A002 59 ST-BMT 02-00-00     346.791209\n",
       "               02-00-01     203.901099\n",
       "               02-03-00    1485.406593\n",
       "               02-03-01    1522.923077\n",
       "               02-03-02    1157.890110"
      ]
     },
     "execution_count": 23,
     "metadata": {},
     "output_type": "execute_result"
    }
   ],
   "source": [
    "#Find AVG EXITS per day per SCP.\n",
    "avg_daily_exit = total_scp_exit2.groupby(['C/A','STATION','SCP'])[['exits_per_day']].mean()\n",
    "avg_daily_exit.head()"
   ]
  },
  {
   "cell_type": "code",
   "execution_count": 24,
   "metadata": {
    "scrolled": false
   },
   "outputs": [
    {
     "data": {
      "text/html": [
       "<div>\n",
       "<style scoped>\n",
       "    .dataframe tbody tr th:only-of-type {\n",
       "        vertical-align: middle;\n",
       "    }\n",
       "\n",
       "    .dataframe tbody tr th {\n",
       "        vertical-align: top;\n",
       "    }\n",
       "\n",
       "    .dataframe thead th {\n",
       "        text-align: right;\n",
       "    }\n",
       "</style>\n",
       "<table border=\"1\" class=\"dataframe\">\n",
       "  <thead>\n",
       "    <tr style=\"text-align: right;\">\n",
       "      <th></th>\n",
       "      <th></th>\n",
       "      <th>exits_per_day</th>\n",
       "    </tr>\n",
       "    <tr>\n",
       "      <th>C/A</th>\n",
       "      <th>STATION</th>\n",
       "      <th></th>\n",
       "    </tr>\n",
       "  </thead>\n",
       "  <tbody>\n",
       "    <tr>\n",
       "      <th>A002</th>\n",
       "      <th>59 ST-BMT</th>\n",
       "      <td>523.565934</td>\n",
       "    </tr>\n",
       "    <tr>\n",
       "      <th>A006</th>\n",
       "      <th>5 AV/59 ST</th>\n",
       "      <td>871.822802</td>\n",
       "    </tr>\n",
       "    <tr>\n",
       "      <th>A007</th>\n",
       "      <th>5 AV/59 ST</th>\n",
       "      <td>530.265690</td>\n",
       "    </tr>\n",
       "    <tr>\n",
       "      <th>A010</th>\n",
       "      <th>57 ST-7 AV</th>\n",
       "      <td>768.451923</td>\n",
       "    </tr>\n",
       "    <tr>\n",
       "      <th>A011</th>\n",
       "      <th>57 ST-7 AV</th>\n",
       "      <td>2987.151648</td>\n",
       "    </tr>\n",
       "    <tr>\n",
       "      <th>A013</th>\n",
       "      <th>49 ST</th>\n",
       "      <td>894.094017</td>\n",
       "    </tr>\n",
       "    <tr>\n",
       "      <th>A015</th>\n",
       "      <th>49 ST</th>\n",
       "      <td>702.142857</td>\n",
       "    </tr>\n",
       "    <tr>\n",
       "      <th>A016</th>\n",
       "      <th>49 ST</th>\n",
       "      <td>455.487912</td>\n",
       "    </tr>\n",
       "    <tr>\n",
       "      <th>A021</th>\n",
       "      <th>TIMES SQ-42 ST</th>\n",
       "      <td>2150.969780</td>\n",
       "    </tr>\n",
       "    <tr>\n",
       "      <th>A022</th>\n",
       "      <th>34 ST-HERALD SQ</th>\n",
       "      <td>1834.380220</td>\n",
       "    </tr>\n",
       "  </tbody>\n",
       "</table>\n",
       "</div>"
      ],
      "text/plain": [
       "                      exits_per_day\n",
       "C/A  STATION                       \n",
       "A002 59 ST-BMT           523.565934\n",
       "A006 5 AV/59 ST          871.822802\n",
       "A007 5 AV/59 ST          530.265690\n",
       "A010 57 ST-7 AV          768.451923\n",
       "A011 57 ST-7 AV         2987.151648\n",
       "A013 49 ST               894.094017\n",
       "A015 49 ST               702.142857\n",
       "A016 49 ST               455.487912\n",
       "A021 TIMES SQ-42 ST     2150.969780\n",
       "A022 34 ST-HERALD SQ    1834.380220"
      ]
     },
     "execution_count": 24,
     "metadata": {},
     "output_type": "execute_result"
    }
   ],
   "source": [
    "#Group by C/A and return the mean of daily exits of all SCP per C/A\n",
    "station_daily = avg_daily_exit.groupby(['C/A','STATION'])[['exits_per_day']].mean()\n",
    "station_daily.head(10)"
   ]
  },
  {
   "cell_type": "code",
   "execution_count": 25,
   "metadata": {},
   "outputs": [
    {
     "data": {
      "text/plain": [
       "<seaborn.axisgrid.FacetGrid at 0x2a88ff3d250>"
      ]
     },
     "execution_count": 25,
     "metadata": {},
     "output_type": "execute_result"
    },
    {
     "data": {
      "image/png": "[encoded data removed]",
      "text/plain": [
       "<Figure size 360x360 with 1 Axes>"
      ]
     },
     "metadata": {
      "needs_background": "light"
     },
     "output_type": "display_data"
    }
   ],
   "source": [
    "sns.displot(station_daily.exits_per_day)"
   ]
  },
  {
   "cell_type": "code",
   "execution_count": 37,
   "metadata": {
    "scrolled": true
   },
   "outputs": [
    {
     "data": {
      "text/html": [
       "<div>\n",
       "<style scoped>\n",
       "    .dataframe tbody tr th:only-of-type {\n",
       "        vertical-align: middle;\n",
       "    }\n",
       "\n",
       "    .dataframe tbody tr th {\n",
       "        vertical-align: top;\n",
       "    }\n",
       "\n",
       "    .dataframe thead th {\n",
       "        text-align: right;\n",
       "    }\n",
       "</style>\n",
       "<table border=\"1\" class=\"dataframe\">\n",
       "  <thead>\n",
       "    <tr style=\"text-align: right;\">\n",
       "      <th></th>\n",
       "      <th></th>\n",
       "      <th>exits_per_day</th>\n",
       "    </tr>\n",
       "    <tr>\n",
       "      <th>C/A</th>\n",
       "      <th>STATION</th>\n",
       "      <th></th>\n",
       "    </tr>\n",
       "  </thead>\n",
       "  <tbody>\n",
       "    <tr>\n",
       "      <th>A011</th>\n",
       "      <th>57 ST-7 AV</th>\n",
       "      <td>2987.15</td>\n",
       "    </tr>\n",
       "    <tr>\n",
       "      <th>R216</th>\n",
       "      <th>SPRING ST</th>\n",
       "      <td>2785.67</td>\n",
       "    </tr>\n",
       "    <tr>\n",
       "      <th>R238</th>\n",
       "      <th>GRD CNTRL-42 ST</th>\n",
       "      <td>2667.11</td>\n",
       "    </tr>\n",
       "    <tr>\n",
       "      <th>R135</th>\n",
       "      <th>34 ST-PENN STA</th>\n",
       "      <td>2650.36</td>\n",
       "    </tr>\n",
       "    <tr>\n",
       "      <th>N100</th>\n",
       "      <th>HIGH ST</th>\n",
       "      <td>2447.81</td>\n",
       "    </tr>\n",
       "    <tr>\n",
       "      <th>R249</th>\n",
       "      <th>86 ST</th>\n",
       "      <td>2325.07</td>\n",
       "    </tr>\n",
       "    <tr>\n",
       "      <th>A025</th>\n",
       "      <th>34 ST-HERALD SQ</th>\n",
       "      <td>2262.11</td>\n",
       "    </tr>\n",
       "    <tr>\n",
       "      <th>A033</th>\n",
       "      <th>14 ST-UNION SQ</th>\n",
       "      <td>2237.28</td>\n",
       "    </tr>\n",
       "    <tr>\n",
       "      <th>R161A</th>\n",
       "      <th>72 ST</th>\n",
       "      <td>2199.00</td>\n",
       "    </tr>\n",
       "    <tr>\n",
       "      <th>R247</th>\n",
       "      <th>77 ST</th>\n",
       "      <td>2159.59</td>\n",
       "    </tr>\n",
       "  </tbody>\n",
       "</table>\n",
       "</div>"
      ],
      "text/plain": [
       "                       exits_per_day\n",
       "C/A   STATION                       \n",
       "A011  57 ST-7 AV             2987.15\n",
       "R216  SPRING ST              2785.67\n",
       "R238  GRD CNTRL-42 ST        2667.11\n",
       "R135  34 ST-PENN STA         2650.36\n",
       "N100  HIGH ST                2447.81\n",
       "R249  86 ST                  2325.07\n",
       "A025  34 ST-HERALD SQ        2262.11\n",
       "A033  14 ST-UNION SQ         2237.28\n",
       "R161A 72 ST                  2199.00\n",
       "R247  77 ST                  2159.59"
      ]
     },
     "execution_count": 37,
     "metadata": {},
     "output_type": "execute_result"
    }
   ],
   "source": [
    "#Sorting DESC to find top 5 stations\n",
    "station_daily = station_daily.sort_values(by=['exits_per_day'],ascending=False).round(decimals=2)\n",
    "station_daily.head(10)"
   ]
  },
  {
   "cell_type": "code",
   "execution_count": 50,
   "metadata": {
    "scrolled": true
   },
   "outputs": [],
   "source": [
    "station_daily.reset_index(inplace=True)"
   ]
  },
  {
   "cell_type": "code",
   "execution_count": 53,
   "metadata": {},
   "outputs": [],
   "source": [
    "station_daily=station_daily.head(10)"
   ]
  },
  {
   "cell_type": "code",
   "execution_count": 56,
   "metadata": {},
   "outputs": [
    {
     "data": {
      "image/png": "[encoded data removed]",
      "text/plain": [
       "<Figure size 432x288 with 1 Axes>"
      ]
     },
     "metadata": {
      "needs_background": "light"
     },
     "output_type": "display_data"
    }
   ],
   "source": [
    "top_10 = sns.barplot(data=station_daily, x='exits_per_day', y='STATION').figure.savefig(\"Top10.png\")"
   ]
  },
  {
   "cell_type": "markdown",
   "metadata": {},
   "source": [
    "SELECT * FROM mta_data m\n",
    "LEFT JOIN neighborhoods n ON m.field4 = n.field1\n",
    "#----\n",
    "UPDATE mta_data\n",
    "SET field4 ='PARK PLACE-IRT'\n",
    "WHERE field4 ='PARK PLACE' AND field6 ='IRT'\n",
    "#----\n",
    "UPDATE mta_data\n",
    "SET field4 ='PARK PLACE-BMT'\n",
    "WHERE field4 ='PARK PLACE' AND field6 ='BMT' \n",
    "#----\n",
    "UPDATE mta_data\n",
    "SET field4 ='BROADWAY-BMT'\n",
    "WHERE field4 ='BROADWAY' AND field6='BMT'\n",
    "#----  \n",
    "UPDATE mta_data    \n",
    "SET field4 ='BROADWAY-IND'\n",
    "WHERE field4 ='BROADWAY' AND field6='IND'\n",
    "#----\n",
    "UPDATE mta_data\n",
    "SET field4 ='59 ST-IRT'\n",
    "WHERE field4 ='59 ST' AND field6='IRT'\n",
    "#----\n",
    "UPDATE mta_data\n",
    "SET field4 ='59 ST-BMT'\n",
    "WHERE field4 ='59 ST' AND field6='BMT'\n",
    "#\n",
    "UPDATE mta_data\n",
    "SET field4 ='7 AV-BKN'\n",
    "WHERE field4 ='7 AV' AND field5='BDE' OR field5='BQ'"
   ]
  }
 ],
 "metadata": {
  "kernelspec": {
   "display_name": "Python 3",
   "language": "python",
   "name": "python3"
  },
  "language_info": {
   "codemirror_mode": {
    "name": "ipython",
    "version": 3
   },
   "file_extension": ".py",
   "mimetype": "text/x-python",
   "name": "python",
   "nbconvert_exporter": "python",
   "pygments_lexer": "ipython3",
   "version": "3.8.5"
  }
 },
 "nbformat": 4,
 "nbformat_minor": 4
}
