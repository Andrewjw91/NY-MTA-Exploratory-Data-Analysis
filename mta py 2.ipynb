{
 "cells": [
  {
   "cell_type": "markdown",
   "metadata": {},
   "source": [
    "import urllib.request\n",
    "\n",
    "url = \"http://web.mta.info/developers/data/nyct/turnstile/turnstile_{}.txt\"\n",
    "week_nums = [190504, 190511, 190518, 190525, 190601, 190608, 190615, 190622, 190629, 190706, 190713, 190720, 190727]\n",
    "\n",
    "for week_num in week_nums:\n",
    "    urllib.request.urlretrieve(f\"http://web.mta.info/developers/data/nyct/turnstile/turnstile_{week_num}.txt\",\n",
    "                               f\"data/turnstile_{week_num}.txt\")"
   ]
  },
  {
   "cell_type": "code",
   "execution_count": 104,
   "metadata": {},
   "outputs": [],
   "source": [
    "from sqlalchemy import create_engine\n",
    "import pandas as pd\n",
    "import numpy as np\n",
    "import matplotlib.pyplot as plt\n",
    "import seaborn as sns\n",
    "\n",
    "engine = create_engine(\"sqlite:///mta.db\")\n",
    "all_data = pd.read_sql('SELECT * FROM mta_data;', engine)"
   ]
  },
  {
   "cell_type": "code",
   "execution_count": 11,
   "metadata": {},
   "outputs": [],
   "source": [
    "df = all_data"
   ]
  },
  {
   "cell_type": "code",
   "execution_count": 12,
   "metadata": {
    "scrolled": true
   },
   "outputs": [],
   "source": [
    "# Need to change columns to row-index 0\n",
    "#df.rename(columns = df.loc[0], inplace =True)\n",
    "\n",
    "# Remove row 0\n",
    "#df = df.drop([0], inplace=True)\n",
    "\n",
    "#Drop dups\n",
    "df.drop_duplicates(inplace=True)\n"
   ]
  },
  {
   "cell_type": "code",
   "execution_count": 14,
   "metadata": {},
   "outputs": [],
   "source": [
    "# Need to convert EXITS column field11 into numeric type\n",
    "df['EXITS'] = df['EXITS'].astype(np.float64)"
   ]
  },
  {
   "cell_type": "code",
   "execution_count": 15,
   "metadata": {},
   "outputs": [
    {
     "name": "stdout",
     "output_type": "stream",
     "text": [
      "<class 'pandas.core.frame.DataFrame'>\n",
      "Int64Index: 2684040 entries, 1 to 2684040\n",
      "Data columns (total 11 columns):\n",
      " #   Column    Dtype  \n",
      "---  ------    -----  \n",
      " 0   C/A       object \n",
      " 1   UNIT      object \n",
      " 2   SCP       object \n",
      " 3   STATION   object \n",
      " 4   LINENAME  object \n",
      " 5   DIVISION  object \n",
      " 6   DATE      object \n",
      " 7   TIME      object \n",
      " 8   DESC      object \n",
      " 9   ENTRIES   object \n",
      " 10  EXITS     float64\n",
      "dtypes: float64(1), object(10)\n",
      "memory usage: 245.7+ MB\n"
     ]
    }
   ],
   "source": [
    "df.info()"
   ]
  },
  {
   "cell_type": "code",
   "execution_count": 16,
   "metadata": {
    "scrolled": false
   },
   "outputs": [
    {
     "data": {
      "text/html": [
       "<div>\n",
       "<style scoped>\n",
       "    .dataframe tbody tr th:only-of-type {\n",
       "        vertical-align: middle;\n",
       "    }\n",
       "\n",
       "    .dataframe tbody tr th {\n",
       "        vertical-align: top;\n",
       "    }\n",
       "\n",
       "    .dataframe thead th {\n",
       "        text-align: right;\n",
       "    }\n",
       "</style>\n",
       "<table border=\"1\" class=\"dataframe\">\n",
       "  <thead>\n",
       "    <tr style=\"text-align: right;\">\n",
       "      <th></th>\n",
       "      <th>C/A</th>\n",
       "      <th>UNIT</th>\n",
       "      <th>SCP</th>\n",
       "      <th>STATION</th>\n",
       "      <th>LINENAME</th>\n",
       "      <th>DIVISION</th>\n",
       "      <th>DATE</th>\n",
       "      <th>TIME</th>\n",
       "      <th>DESC</th>\n",
       "      <th>ENTRIES</th>\n",
       "      <th>EXITS</th>\n",
       "    </tr>\n",
       "  </thead>\n",
       "  <tbody>\n",
       "    <tr>\n",
       "      <th>1</th>\n",
       "      <td>A002</td>\n",
       "      <td>R051</td>\n",
       "      <td>02-00-00</td>\n",
       "      <td>59 ST</td>\n",
       "      <td>NQR456W</td>\n",
       "      <td>BMT</td>\n",
       "      <td>04/27/2019</td>\n",
       "      <td>00:00:00</td>\n",
       "      <td>REGULAR</td>\n",
       "      <td>0007035249</td>\n",
       "      <td>2384833.0</td>\n",
       "    </tr>\n",
       "    <tr>\n",
       "      <th>2</th>\n",
       "      <td>A002</td>\n",
       "      <td>R051</td>\n",
       "      <td>02-00-00</td>\n",
       "      <td>59 ST</td>\n",
       "      <td>NQR456W</td>\n",
       "      <td>BMT</td>\n",
       "      <td>04/27/2019</td>\n",
       "      <td>04:00:00</td>\n",
       "      <td>REGULAR</td>\n",
       "      <td>0007035269</td>\n",
       "      <td>2384840.0</td>\n",
       "    </tr>\n",
       "    <tr>\n",
       "      <th>3</th>\n",
       "      <td>A002</td>\n",
       "      <td>R051</td>\n",
       "      <td>02-00-00</td>\n",
       "      <td>59 ST</td>\n",
       "      <td>NQR456W</td>\n",
       "      <td>BMT</td>\n",
       "      <td>04/27/2019</td>\n",
       "      <td>08:00:00</td>\n",
       "      <td>REGULAR</td>\n",
       "      <td>0007035292</td>\n",
       "      <td>2384875.0</td>\n",
       "    </tr>\n",
       "    <tr>\n",
       "      <th>4</th>\n",
       "      <td>A002</td>\n",
       "      <td>R051</td>\n",
       "      <td>02-00-00</td>\n",
       "      <td>59 ST</td>\n",
       "      <td>NQR456W</td>\n",
       "      <td>BMT</td>\n",
       "      <td>04/27/2019</td>\n",
       "      <td>12:00:00</td>\n",
       "      <td>REGULAR</td>\n",
       "      <td>0007035392</td>\n",
       "      <td>2384951.0</td>\n",
       "    </tr>\n",
       "    <tr>\n",
       "      <th>5</th>\n",
       "      <td>A002</td>\n",
       "      <td>R051</td>\n",
       "      <td>02-00-00</td>\n",
       "      <td>59 ST</td>\n",
       "      <td>NQR456W</td>\n",
       "      <td>BMT</td>\n",
       "      <td>04/27/2019</td>\n",
       "      <td>16:00:00</td>\n",
       "      <td>REGULAR</td>\n",
       "      <td>0007035651</td>\n",
       "      <td>2385020.0</td>\n",
       "    </tr>\n",
       "  </tbody>\n",
       "</table>\n",
       "</div>"
      ],
      "text/plain": [
       "    C/A  UNIT       SCP STATION LINENAME DIVISION        DATE      TIME  \\\n",
       "1  A002  R051  02-00-00   59 ST  NQR456W      BMT  04/27/2019  00:00:00   \n",
       "2  A002  R051  02-00-00   59 ST  NQR456W      BMT  04/27/2019  04:00:00   \n",
       "3  A002  R051  02-00-00   59 ST  NQR456W      BMT  04/27/2019  08:00:00   \n",
       "4  A002  R051  02-00-00   59 ST  NQR456W      BMT  04/27/2019  12:00:00   \n",
       "5  A002  R051  02-00-00   59 ST  NQR456W      BMT  04/27/2019  16:00:00   \n",
       "\n",
       "      DESC     ENTRIES      EXITS  \n",
       "1  REGULAR  0007035249  2384833.0  \n",
       "2  REGULAR  0007035269  2384840.0  \n",
       "3  REGULAR  0007035292  2384875.0  \n",
       "4  REGULAR  0007035392  2384951.0  \n",
       "5  REGULAR  0007035651  2385020.0  "
      ]
     },
     "execution_count": 16,
     "metadata": {},
     "output_type": "execute_result"
    }
   ],
   "source": [
    "df.head()"
   ]
  },
  {
   "cell_type": "code",
   "execution_count": 44,
   "metadata": {
    "scrolled": false
   },
   "outputs": [],
   "source": [
    "# Need to find the max(EXITS) for each (SCP) by DATE\n",
    "#This excludes the EXITS count from TIME 20:00-23:59 each day. The data from this date frame is not as relevant to my company of interest.\n",
    "#The EXITS count during this time is likely minimal. Additionally, scooters are reclaimed at night to charge to be redeployed the next morning.\n",
    "#I used .shift method with PREV_EXITS initially. However, for C/A==S101A, SCP==01-00-03 between 05/01/2019 and 05/02/2019 there was an unexplained jump from 432 to 1078346838.\n",
    "max_exit = df.groupby(['C/A','SCP','DATE'])[['EXITS']].max()"
   ]
  },
  {
   "cell_type": "code",
   "execution_count": 45,
   "metadata": {},
   "outputs": [],
   "source": [
    "# Need to find the min(EXITS) for each (SCP) by DATE\n",
    "min_exit = df.groupby(['C/A','SCP','DATE'])[['EXITS']].min()"
   ]
  },
  {
   "cell_type": "code",
   "execution_count": 90,
   "metadata": {
    "scrolled": false
   },
   "outputs": [
    {
     "data": {
      "text/html": [
       "<div>\n",
       "<style scoped>\n",
       "    .dataframe tbody tr th:only-of-type {\n",
       "        vertical-align: middle;\n",
       "    }\n",
       "\n",
       "    .dataframe tbody tr th {\n",
       "        vertical-align: top;\n",
       "    }\n",
       "\n",
       "    .dataframe thead th {\n",
       "        text-align: right;\n",
       "    }\n",
       "</style>\n",
       "<table border=\"1\" class=\"dataframe\">\n",
       "  <thead>\n",
       "    <tr style=\"text-align: right;\">\n",
       "      <th></th>\n",
       "      <th></th>\n",
       "      <th></th>\n",
       "      <th>EXITS_x</th>\n",
       "      <th>EXITS_y</th>\n",
       "    </tr>\n",
       "    <tr>\n",
       "      <th>C/A</th>\n",
       "      <th>SCP</th>\n",
       "      <th>DATE</th>\n",
       "      <th></th>\n",
       "      <th></th>\n",
       "    </tr>\n",
       "  </thead>\n",
       "  <tbody>\n",
       "    <tr>\n",
       "      <th rowspan=\"5\" valign=\"top\">A002</th>\n",
       "      <th rowspan=\"5\" valign=\"top\">02-00-00</th>\n",
       "      <th>04/27/2019</th>\n",
       "      <td>2385070.0</td>\n",
       "      <td>2384833.0</td>\n",
       "    </tr>\n",
       "    <tr>\n",
       "      <th>04/28/2019</th>\n",
       "      <td>2385240.0</td>\n",
       "      <td>2385087.0</td>\n",
       "    </tr>\n",
       "    <tr>\n",
       "      <th>04/29/2019</th>\n",
       "      <td>2385732.0</td>\n",
       "      <td>2385256.0</td>\n",
       "    </tr>\n",
       "    <tr>\n",
       "      <th>04/30/2019</th>\n",
       "      <td>2386197.0</td>\n",
       "      <td>2385765.0</td>\n",
       "    </tr>\n",
       "    <tr>\n",
       "      <th>05/01/2019</th>\n",
       "      <td>2386673.0</td>\n",
       "      <td>2386229.0</td>\n",
       "    </tr>\n",
       "  </tbody>\n",
       "</table>\n",
       "</div>"
      ],
      "text/plain": [
       "                            EXITS_x    EXITS_y\n",
       "C/A  SCP      DATE                            \n",
       "A002 02-00-00 04/27/2019  2385070.0  2384833.0\n",
       "              04/28/2019  2385240.0  2385087.0\n",
       "              04/29/2019  2385732.0  2385256.0\n",
       "              04/30/2019  2386197.0  2385765.0\n",
       "              05/01/2019  2386673.0  2386229.0"
      ]
     },
     "execution_count": 90,
     "metadata": {},
     "output_type": "execute_result"
    }
   ],
   "source": [
    "#Merging total scp exits data into one df, on matching SCP column\n",
    "total_scp_exit = pd.merge(max_exit, min_exit, on=['C/A','SCP','DATE'])\n",
    "total_scp_exit.head()"
   ]
  },
  {
   "cell_type": "code",
   "execution_count": 91,
   "metadata": {
    "scrolled": true
   },
   "outputs": [
    {
     "data": {
      "text/html": [
       "<div>\n",
       "<style scoped>\n",
       "    .dataframe tbody tr th:only-of-type {\n",
       "        vertical-align: middle;\n",
       "    }\n",
       "\n",
       "    .dataframe tbody tr th {\n",
       "        vertical-align: top;\n",
       "    }\n",
       "\n",
       "    .dataframe thead th {\n",
       "        text-align: right;\n",
       "    }\n",
       "</style>\n",
       "<table border=\"1\" class=\"dataframe\">\n",
       "  <thead>\n",
       "    <tr style=\"text-align: right;\">\n",
       "      <th></th>\n",
       "      <th></th>\n",
       "      <th></th>\n",
       "      <th>EXITS_x</th>\n",
       "      <th>EXITS_y</th>\n",
       "      <th>exits_per_day</th>\n",
       "    </tr>\n",
       "    <tr>\n",
       "      <th>C/A</th>\n",
       "      <th>SCP</th>\n",
       "      <th>DATE</th>\n",
       "      <th></th>\n",
       "      <th></th>\n",
       "      <th></th>\n",
       "    </tr>\n",
       "  </thead>\n",
       "  <tbody>\n",
       "    <tr>\n",
       "      <th rowspan=\"5\" valign=\"top\">A002</th>\n",
       "      <th rowspan=\"5\" valign=\"top\">02-00-00</th>\n",
       "      <th>04/27/2019</th>\n",
       "      <td>2385070.0</td>\n",
       "      <td>2384833.0</td>\n",
       "      <td>237.0</td>\n",
       "    </tr>\n",
       "    <tr>\n",
       "      <th>04/28/2019</th>\n",
       "      <td>2385240.0</td>\n",
       "      <td>2385087.0</td>\n",
       "      <td>153.0</td>\n",
       "    </tr>\n",
       "    <tr>\n",
       "      <th>04/29/2019</th>\n",
       "      <td>2385732.0</td>\n",
       "      <td>2385256.0</td>\n",
       "      <td>476.0</td>\n",
       "    </tr>\n",
       "    <tr>\n",
       "      <th>04/30/2019</th>\n",
       "      <td>2386197.0</td>\n",
       "      <td>2385765.0</td>\n",
       "      <td>432.0</td>\n",
       "    </tr>\n",
       "    <tr>\n",
       "      <th>05/01/2019</th>\n",
       "      <td>2386673.0</td>\n",
       "      <td>2386229.0</td>\n",
       "      <td>444.0</td>\n",
       "    </tr>\n",
       "  </tbody>\n",
       "</table>\n",
       "</div>"
      ],
      "text/plain": [
       "                            EXITS_x    EXITS_y  exits_per_day\n",
       "C/A  SCP      DATE                                           \n",
       "A002 02-00-00 04/27/2019  2385070.0  2384833.0          237.0\n",
       "              04/28/2019  2385240.0  2385087.0          153.0\n",
       "              04/29/2019  2385732.0  2385256.0          476.0\n",
       "              04/30/2019  2386197.0  2385765.0          432.0\n",
       "              05/01/2019  2386673.0  2386229.0          444.0"
      ]
     },
     "execution_count": 91,
     "metadata": {},
     "output_type": "execute_result"
    }
   ],
   "source": [
    "# total_scp_exits = max-min for each turnstile SCP per DATE\n",
    "total_scp_exit['exits_per_day'] = total_scp_exit['EXITS_x']-total_scp_exit['EXITS_y']\n",
    "total_scp_exit.head()"
   ]
  },
  {
   "cell_type": "code",
   "execution_count": 125,
   "metadata": {},
   "outputs": [
    {
     "data": {
      "text/html": [
       "<div>\n",
       "<style scoped>\n",
       "    .dataframe tbody tr th:only-of-type {\n",
       "        vertical-align: middle;\n",
       "    }\n",
       "\n",
       "    .dataframe tbody tr th {\n",
       "        vertical-align: top;\n",
       "    }\n",
       "\n",
       "    .dataframe thead th {\n",
       "        text-align: right;\n",
       "    }\n",
       "</style>\n",
       "<table border=\"1\" class=\"dataframe\">\n",
       "  <thead>\n",
       "    <tr style=\"text-align: right;\">\n",
       "      <th></th>\n",
       "      <th></th>\n",
       "      <th></th>\n",
       "      <th>EXITS_x</th>\n",
       "      <th>EXITS_y</th>\n",
       "      <th>exits_per_day</th>\n",
       "    </tr>\n",
       "    <tr>\n",
       "      <th>C/A</th>\n",
       "      <th>SCP</th>\n",
       "      <th>DATE</th>\n",
       "      <th></th>\n",
       "      <th></th>\n",
       "      <th></th>\n",
       "    </tr>\n",
       "  </thead>\n",
       "  <tbody>\n",
       "    <tr>\n",
       "      <th>PTH13</th>\n",
       "      <th>00-00-03</th>\n",
       "      <th>06/11/2019</th>\n",
       "      <td>19917.0</td>\n",
       "      <td>3.0</td>\n",
       "      <td>19914.0</td>\n",
       "    </tr>\n",
       "    <tr>\n",
       "      <th>PTH07</th>\n",
       "      <th>00-00-00</th>\n",
       "      <th>06/11/2019</th>\n",
       "      <td>19924.0</td>\n",
       "      <td>14.0</td>\n",
       "      <td>19910.0</td>\n",
       "    </tr>\n",
       "    <tr>\n",
       "      <th>PTH05</th>\n",
       "      <th>00-04-08</th>\n",
       "      <th>06/10/2019</th>\n",
       "      <td>19560.0</td>\n",
       "      <td>8.0</td>\n",
       "      <td>19552.0</td>\n",
       "    </tr>\n",
       "    <tr>\n",
       "      <th>PTH16</th>\n",
       "      <th>01-01-08</th>\n",
       "      <th>07/11/2019</th>\n",
       "      <td>19188.0</td>\n",
       "      <td>20.0</td>\n",
       "      <td>19168.0</td>\n",
       "    </tr>\n",
       "    <tr>\n",
       "      <th>PTH18</th>\n",
       "      <th>01-01-02</th>\n",
       "      <th>05/09/2019</th>\n",
       "      <td>19074.0</td>\n",
       "      <td>1.0</td>\n",
       "      <td>19073.0</td>\n",
       "    </tr>\n",
       "    <tr>\n",
       "      <th>...</th>\n",
       "      <th>...</th>\n",
       "      <th>...</th>\n",
       "      <td>...</td>\n",
       "      <td>...</td>\n",
       "      <td>...</td>\n",
       "    </tr>\n",
       "    <tr>\n",
       "      <th rowspan=\"4\" valign=\"top\">N203</th>\n",
       "      <th rowspan=\"4\" valign=\"top\">00-05-00</th>\n",
       "      <th>04/29/2019</th>\n",
       "      <td>0.0</td>\n",
       "      <td>0.0</td>\n",
       "      <td>0.0</td>\n",
       "    </tr>\n",
       "    <tr>\n",
       "      <th>04/30/2019</th>\n",
       "      <td>0.0</td>\n",
       "      <td>0.0</td>\n",
       "      <td>0.0</td>\n",
       "    </tr>\n",
       "    <tr>\n",
       "      <th>05/01/2019</th>\n",
       "      <td>0.0</td>\n",
       "      <td>0.0</td>\n",
       "      <td>0.0</td>\n",
       "    </tr>\n",
       "    <tr>\n",
       "      <th>05/02/2019</th>\n",
       "      <td>0.0</td>\n",
       "      <td>0.0</td>\n",
       "      <td>0.0</td>\n",
       "    </tr>\n",
       "    <tr>\n",
       "      <th>TRAM2</th>\n",
       "      <th>00-05-01</th>\n",
       "      <th>07/26/2019</th>\n",
       "      <td>383.0</td>\n",
       "      <td>383.0</td>\n",
       "      <td>0.0</td>\n",
       "    </tr>\n",
       "  </tbody>\n",
       "</table>\n",
       "<p>441498 rows × 3 columns</p>\n",
       "</div>"
      ],
      "text/plain": [
       "                           EXITS_x  EXITS_y  exits_per_day\n",
       "C/A   SCP      DATE                                       \n",
       "PTH13 00-00-03 06/11/2019  19917.0      3.0        19914.0\n",
       "PTH07 00-00-00 06/11/2019  19924.0     14.0        19910.0\n",
       "PTH05 00-04-08 06/10/2019  19560.0      8.0        19552.0\n",
       "PTH16 01-01-08 07/11/2019  19188.0     20.0        19168.0\n",
       "PTH18 01-01-02 05/09/2019  19074.0      1.0        19073.0\n",
       "...                            ...      ...            ...\n",
       "N203  00-05-00 04/29/2019      0.0      0.0            0.0\n",
       "               04/30/2019      0.0      0.0            0.0\n",
       "               05/01/2019      0.0      0.0            0.0\n",
       "               05/02/2019      0.0      0.0            0.0\n",
       "TRAM2 00-05-01 07/26/2019    383.0    383.0            0.0\n",
       "\n",
       "[441498 rows x 3 columns]"
      ]
     },
     "execution_count": 125,
     "metadata": {},
     "output_type": "execute_result"
    }
   ],
   "source": [
    "#There are some large inexplicable jumps in the EXITS count\n",
    "total_scp_exit.sort_values(['exits_per_day'], ascending=False)"
   ]
  },
  {
   "cell_type": "code",
   "execution_count": 110,
   "metadata": {
    "scrolled": true
   },
   "outputs": [
    {
     "data": {
      "text/plain": [
       "<seaborn.axisgrid.FacetGrid at 0x229023e2520>"
      ]
     },
     "execution_count": 110,
     "metadata": {},
     "output_type": "execute_result"
    },
    {
     "data": {
      "image/png": "[encoded data removed]",
      "text/plain": [
       "<Figure size 360x360 with 1 Axes>"
      ]
     },
     "metadata": {
      "needs_background": "light"
     },
     "output_type": "display_data"
    }
   ],
   "source": [
    "sns.displot(total_scp_exit[(total_scp_exit.exits_per_day <20000)].exits_per_day)\n",
    "#This shows distribution of exits_per_day values"
   ]
  },
  {
   "cell_type": "code",
   "execution_count": 124,
   "metadata": {},
   "outputs": [],
   "source": [
    "#Remove exits_per_day values > 20000\n",
    "total_scp_exit = total_scp_exit[(total_scp_exit.exits_per_day <20000)]"
   ]
  },
  {
   "cell_type": "code",
   "execution_count": 112,
   "metadata": {
    "scrolled": true
   },
   "outputs": [
    {
     "data": {
      "text/html": [
       "<div>\n",
       "<style scoped>\n",
       "    .dataframe tbody tr th:only-of-type {\n",
       "        vertical-align: middle;\n",
       "    }\n",
       "\n",
       "    .dataframe tbody tr th {\n",
       "        vertical-align: top;\n",
       "    }\n",
       "\n",
       "    .dataframe thead th {\n",
       "        text-align: right;\n",
       "    }\n",
       "</style>\n",
       "<table border=\"1\" class=\"dataframe\">\n",
       "  <thead>\n",
       "    <tr style=\"text-align: right;\">\n",
       "      <th></th>\n",
       "      <th></th>\n",
       "      <th>exits_per_day</th>\n",
       "    </tr>\n",
       "    <tr>\n",
       "      <th>C/A</th>\n",
       "      <th>SCP</th>\n",
       "      <th></th>\n",
       "    </tr>\n",
       "  </thead>\n",
       "  <tbody>\n",
       "    <tr>\n",
       "      <th rowspan=\"5\" valign=\"top\">A002</th>\n",
       "      <th>02-00-00</th>\n",
       "      <td>346.791209</td>\n",
       "    </tr>\n",
       "    <tr>\n",
       "      <th>02-00-01</th>\n",
       "      <td>203.901099</td>\n",
       "    </tr>\n",
       "    <tr>\n",
       "      <th>02-03-00</th>\n",
       "      <td>1485.406593</td>\n",
       "    </tr>\n",
       "    <tr>\n",
       "      <th>02-03-01</th>\n",
       "      <td>1522.923077</td>\n",
       "    </tr>\n",
       "    <tr>\n",
       "      <th>02-03-02</th>\n",
       "      <td>1157.890110</td>\n",
       "    </tr>\n",
       "  </tbody>\n",
       "</table>\n",
       "</div>"
      ],
      "text/plain": [
       "               exits_per_day\n",
       "C/A  SCP                    \n",
       "A002 02-00-00     346.791209\n",
       "     02-00-01     203.901099\n",
       "     02-03-00    1485.406593\n",
       "     02-03-01    1522.923077\n",
       "     02-03-02    1157.890110"
      ]
     },
     "execution_count": 112,
     "metadata": {},
     "output_type": "execute_result"
    }
   ],
   "source": [
    "#Find AVG EXITS per day per SCP.\n",
    "avg_daily_exit = total_scp_exit.groupby(['C/A','SCP'])[['exits_per_day']].mean()\n",
    "avg_daily_exit.head()"
   ]
  },
  {
   "cell_type": "code",
   "execution_count": 119,
   "metadata": {
    "scrolled": false
   },
   "outputs": [
    {
     "data": {
      "text/html": [
       "<div>\n",
       "<style scoped>\n",
       "    .dataframe tbody tr th:only-of-type {\n",
       "        vertical-align: middle;\n",
       "    }\n",
       "\n",
       "    .dataframe tbody tr th {\n",
       "        vertical-align: top;\n",
       "    }\n",
       "\n",
       "    .dataframe thead th {\n",
       "        text-align: right;\n",
       "    }\n",
       "</style>\n",
       "<table border=\"1\" class=\"dataframe\">\n",
       "  <thead>\n",
       "    <tr style=\"text-align: right;\">\n",
       "      <th></th>\n",
       "      <th>exits_per_day</th>\n",
       "    </tr>\n",
       "    <tr>\n",
       "      <th>C/A</th>\n",
       "      <th></th>\n",
       "    </tr>\n",
       "  </thead>\n",
       "  <tbody>\n",
       "    <tr>\n",
       "      <th>A002</th>\n",
       "      <td>523.565934</td>\n",
       "    </tr>\n",
       "    <tr>\n",
       "      <th>A006</th>\n",
       "      <td>871.822802</td>\n",
       "    </tr>\n",
       "    <tr>\n",
       "      <th>A007</th>\n",
       "      <td>530.265690</td>\n",
       "    </tr>\n",
       "    <tr>\n",
       "      <th>A010</th>\n",
       "      <td>768.451923</td>\n",
       "    </tr>\n",
       "    <tr>\n",
       "      <th>A011</th>\n",
       "      <td>2987.151648</td>\n",
       "    </tr>\n",
       "    <tr>\n",
       "      <th>A013</th>\n",
       "      <td>894.094017</td>\n",
       "    </tr>\n",
       "    <tr>\n",
       "      <th>A015</th>\n",
       "      <td>702.142857</td>\n",
       "    </tr>\n",
       "    <tr>\n",
       "      <th>A016</th>\n",
       "      <td>455.487912</td>\n",
       "    </tr>\n",
       "    <tr>\n",
       "      <th>A021</th>\n",
       "      <td>2150.969780</td>\n",
       "    </tr>\n",
       "    <tr>\n",
       "      <th>A022</th>\n",
       "      <td>1834.380220</td>\n",
       "    </tr>\n",
       "  </tbody>\n",
       "</table>\n",
       "</div>"
      ],
      "text/plain": [
       "      exits_per_day\n",
       "C/A                \n",
       "A002     523.565934\n",
       "A006     871.822802\n",
       "A007     530.265690\n",
       "A010     768.451923\n",
       "A011    2987.151648\n",
       "A013     894.094017\n",
       "A015     702.142857\n",
       "A016     455.487912\n",
       "A021    2150.969780\n",
       "A022    1834.380220"
      ]
     },
     "execution_count": 119,
     "metadata": {},
     "output_type": "execute_result"
    }
   ],
   "source": [
    "#Group by C/A and return the mean of daily exits of all SCP per C/A\n",
    "station_daily = avg_daily_exit.groupby(['C/A'])[['exits_per_day']].mean()\n",
    "station_daily.head(10)"
   ]
  },
  {
   "cell_type": "code",
   "execution_count": 121,
   "metadata": {},
   "outputs": [
    {
     "data": {
      "text/plain": [
       "<seaborn.axisgrid.FacetGrid at 0x22945d47880>"
      ]
     },
     "execution_count": 121,
     "metadata": {},
     "output_type": "execute_result"
    },
    {
     "data": {
      "image/png": "[encoded data removed]",
      "text/plain": [
       "<Figure size 360x360 with 1 Axes>"
      ]
     },
     "metadata": {
      "needs_background": "light"
     },
     "output_type": "display_data"
    }
   ],
   "source": [
    "sns.displot(station_daily.exits_per_day)"
   ]
  },
  {
   "cell_type": "code",
   "execution_count": 116,
   "metadata": {
    "scrolled": true
   },
   "outputs": [
    {
     "data": {
      "text/html": [
       "<div>\n",
       "<style scoped>\n",
       "    .dataframe tbody tr th:only-of-type {\n",
       "        vertical-align: middle;\n",
       "    }\n",
       "\n",
       "    .dataframe tbody tr th {\n",
       "        vertical-align: top;\n",
       "    }\n",
       "\n",
       "    .dataframe thead th {\n",
       "        text-align: right;\n",
       "    }\n",
       "</style>\n",
       "<table border=\"1\" class=\"dataframe\">\n",
       "  <thead>\n",
       "    <tr style=\"text-align: right;\">\n",
       "      <th></th>\n",
       "      <th>exits_per_day</th>\n",
       "    </tr>\n",
       "    <tr>\n",
       "      <th>C/A</th>\n",
       "      <th></th>\n",
       "    </tr>\n",
       "  </thead>\n",
       "  <tbody>\n",
       "    <tr>\n",
       "      <th>A011</th>\n",
       "      <td>2987.15</td>\n",
       "    </tr>\n",
       "    <tr>\n",
       "      <th>R216</th>\n",
       "      <td>2785.67</td>\n",
       "    </tr>\n",
       "    <tr>\n",
       "      <th>R238</th>\n",
       "      <td>2667.11</td>\n",
       "    </tr>\n",
       "    <tr>\n",
       "      <th>R135</th>\n",
       "      <td>2650.36</td>\n",
       "    </tr>\n",
       "    <tr>\n",
       "      <th>N100</th>\n",
       "      <td>2447.81</td>\n",
       "    </tr>\n",
       "  </tbody>\n",
       "</table>\n",
       "</div>"
      ],
      "text/plain": [
       "      exits_per_day\n",
       "C/A                \n",
       "A011        2987.15\n",
       "R216        2785.67\n",
       "R238        2667.11\n",
       "R135        2650.36\n",
       "N100        2447.81"
      ]
     },
     "execution_count": 116,
     "metadata": {},
     "output_type": "execute_result"
    }
   ],
   "source": [
    "#Sorting DESC to find top 5 stations\n",
    "station_daily = station_daily.sort_values(by=['exits_per_day'],ascending=False).round(decimals=2)\n",
    "station_daily.head(5)"
   ]
  },
  {
   "cell_type": "code",
   "execution_count": null,
   "metadata": {},
   "outputs": [],
   "source": []
  },
  {
   "cell_type": "code",
   "execution_count": null,
   "metadata": {},
   "outputs": [],
   "source": [
    "#I could also produce another metric for total avg exits for the past 4 weeks, updated "
   ]
  }
 ],
 "metadata": {
  "kernelspec": {
   "display_name": "Python 3",
   "language": "python",
   "name": "python3"
  },
  "language_info": {
   "codemirror_mode": {
    "name": "ipython",
    "version": 3
   },
   "file_extension": ".py",
   "mimetype": "text/x-python",
   "name": "python",
   "nbconvert_exporter": "python",
   "pygments_lexer": "ipython3",
   "version": "3.8.5"
  }
 },
 "nbformat": 4,
 "nbformat_minor": 4
}
